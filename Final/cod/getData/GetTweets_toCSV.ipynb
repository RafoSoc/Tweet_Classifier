{
 "cells": [
  {
   "cell_type": "code",
   "execution_count": 1,
   "metadata": {},
   "outputs": [],
   "source": [
    "import tweepy as tw\n",
    "import pandas as pd\n",
    "import json"
   ]
  },
  {
   "cell_type": "code",
   "execution_count": 2,
   "metadata": {},
   "outputs": [],
   "source": [
    "#Conectando o código a API do Twitter\n",
    "\n",
    "bearer_token = '***************************'\n",
    "\n",
    "consumer_key = '***************************'\n",
    "consumer_secret = '***************************'\n",
    "access_token = '***************************'\n",
    "access_token_secret = '***************************'\n",
    "\n",
    "#Criando a solicitação de autorização para acessar a API do Twitter\n",
    "autorizacao = tw.OAuthHandler(consumer_key, consumer_secret)\n",
    "\n",
    "#Aqui é informada a API os meus tokens de acesso\n",
    "autorizacao.set_access_token(access_token, access_token_secret)\n",
    "\n",
    "#Gerando a conexão com a API do Twitter\n",
    "api = tw.API(autorizacao, wait_on_rate_limit=True)\n",
    "\n",
    "client = tw.Client(bearer_token=access_token)"
   ]
  },
  {
   "cell_type": "code",
   "execution_count": 3,
   "metadata": {},
   "outputs": [],
   "source": [
    "n = 1000"
   ]
  },
  {
   "cell_type": "markdown",
   "metadata": {},
   "source": [
    "## Lula"
   ]
  },
  {
   "cell_type": "code",
   "execution_count": 10,
   "metadata": {},
   "outputs": [],
   "source": [
    "\n",
    "query_lula = 'lula OR lulalivre OR lulaladrao OR molusco OR lulaladrão OR lulapresidente OR lula13 until:2022-08-27'\n",
    "lula = tw.Cursor(api.search_tweets,q=query_lula, lang=\"pt\",tweet_mode=\"extended\").items(n)\n",
    "tweets_lula=[]\n",
    "for tweet in lula:\n",
    "   tweets_lula.append(tweet._json)\n"
   ]
  },
  {
   "cell_type": "code",
   "execution_count": 11,
   "metadata": {},
   "outputs": [
    {
     "name": "stdout",
     "output_type": "stream",
     "text": [
      "[]\n"
     ]
    }
   ],
   "source": [
    "print(tweets_lula)"
   ]
  },
  {
   "cell_type": "code",
   "execution_count": 9,
   "metadata": {},
   "outputs": [
    {
     "ename": "KeyError",
     "evalue": "\"None of [Index(['created_at', 'id_str', 'full_text', 'user.location',\\n       'entities.hashtags', 'retweeted_status.full_text'],\\n      dtype='object')] are in the [columns]\"",
     "output_type": "error",
     "traceback": [
      "\u001b[0;31m---------------------------------------------------------------------------\u001b[0m",
      "\u001b[0;31mKeyError\u001b[0m                                  Traceback (most recent call last)",
      "Cell \u001b[0;32mIn [9], line 2\u001b[0m\n\u001b[1;32m      1\u001b[0m df_lula \u001b[39m=\u001b[39m pd\u001b[39m.\u001b[39mjson_normalize(tweets_lula)\n\u001b[0;32m----> 2\u001b[0m df_lula \u001b[39m=\u001b[39m df_lula[[\u001b[39m'\u001b[39;49m\u001b[39mcreated_at\u001b[39;49m\u001b[39m'\u001b[39;49m, \u001b[39m'\u001b[39;49m\u001b[39mid_str\u001b[39;49m\u001b[39m'\u001b[39;49m, \u001b[39m'\u001b[39;49m\u001b[39mfull_text\u001b[39;49m\u001b[39m'\u001b[39;49m, \u001b[39m'\u001b[39;49m\u001b[39muser.location\u001b[39;49m\u001b[39m'\u001b[39;49m, \u001b[39m'\u001b[39;49m\u001b[39mentities.hashtags\u001b[39;49m\u001b[39m'\u001b[39;49m,\u001b[39m'\u001b[39;49m\u001b[39mretweeted_status.full_text\u001b[39;49m\u001b[39m'\u001b[39;49m]]\n\u001b[1;32m      3\u001b[0m df_lula\u001b[39m.\u001b[39mto_csv(\u001b[39m'\u001b[39m\u001b[39m/home/rafael/mestrado/HCAI/HCAI/dados/teste/lula_teste.csv\u001b[39m\u001b[39m'\u001b[39m, index\u001b[39m=\u001b[39m\u001b[39mFalse\u001b[39;00m)\n",
      "File \u001b[0;32m~/.local/lib/python3.10/site-packages/pandas/core/frame.py:3811\u001b[0m, in \u001b[0;36mDataFrame.__getitem__\u001b[0;34m(self, key)\u001b[0m\n\u001b[1;32m   3809\u001b[0m     \u001b[39mif\u001b[39;00m is_iterator(key):\n\u001b[1;32m   3810\u001b[0m         key \u001b[39m=\u001b[39m \u001b[39mlist\u001b[39m(key)\n\u001b[0;32m-> 3811\u001b[0m     indexer \u001b[39m=\u001b[39m \u001b[39mself\u001b[39;49m\u001b[39m.\u001b[39;49mcolumns\u001b[39m.\u001b[39;49m_get_indexer_strict(key, \u001b[39m\"\u001b[39;49m\u001b[39mcolumns\u001b[39;49m\u001b[39m\"\u001b[39;49m)[\u001b[39m1\u001b[39m]\n\u001b[1;32m   3813\u001b[0m \u001b[39m# take() does not accept boolean indexers\u001b[39;00m\n\u001b[1;32m   3814\u001b[0m \u001b[39mif\u001b[39;00m \u001b[39mgetattr\u001b[39m(indexer, \u001b[39m\"\u001b[39m\u001b[39mdtype\u001b[39m\u001b[39m\"\u001b[39m, \u001b[39mNone\u001b[39;00m) \u001b[39m==\u001b[39m \u001b[39mbool\u001b[39m:\n",
      "File \u001b[0;32m~/.local/lib/python3.10/site-packages/pandas/core/indexes/base.py:6108\u001b[0m, in \u001b[0;36mIndex._get_indexer_strict\u001b[0;34m(self, key, axis_name)\u001b[0m\n\u001b[1;32m   6105\u001b[0m \u001b[39melse\u001b[39;00m:\n\u001b[1;32m   6106\u001b[0m     keyarr, indexer, new_indexer \u001b[39m=\u001b[39m \u001b[39mself\u001b[39m\u001b[39m.\u001b[39m_reindex_non_unique(keyarr)\n\u001b[0;32m-> 6108\u001b[0m \u001b[39mself\u001b[39;49m\u001b[39m.\u001b[39;49m_raise_if_missing(keyarr, indexer, axis_name)\n\u001b[1;32m   6110\u001b[0m keyarr \u001b[39m=\u001b[39m \u001b[39mself\u001b[39m\u001b[39m.\u001b[39mtake(indexer)\n\u001b[1;32m   6111\u001b[0m \u001b[39mif\u001b[39;00m \u001b[39misinstance\u001b[39m(key, Index):\n\u001b[1;32m   6112\u001b[0m     \u001b[39m# GH 42790 - Preserve name from an Index\u001b[39;00m\n",
      "File \u001b[0;32m~/.local/lib/python3.10/site-packages/pandas/core/indexes/base.py:6168\u001b[0m, in \u001b[0;36mIndex._raise_if_missing\u001b[0;34m(self, key, indexer, axis_name)\u001b[0m\n\u001b[1;32m   6166\u001b[0m     \u001b[39mif\u001b[39;00m use_interval_msg:\n\u001b[1;32m   6167\u001b[0m         key \u001b[39m=\u001b[39m \u001b[39mlist\u001b[39m(key)\n\u001b[0;32m-> 6168\u001b[0m     \u001b[39mraise\u001b[39;00m \u001b[39mKeyError\u001b[39;00m(\u001b[39mf\u001b[39m\u001b[39m\"\u001b[39m\u001b[39mNone of [\u001b[39m\u001b[39m{\u001b[39;00mkey\u001b[39m}\u001b[39;00m\u001b[39m] are in the [\u001b[39m\u001b[39m{\u001b[39;00maxis_name\u001b[39m}\u001b[39;00m\u001b[39m]\u001b[39m\u001b[39m\"\u001b[39m)\n\u001b[1;32m   6170\u001b[0m not_found \u001b[39m=\u001b[39m \u001b[39mlist\u001b[39m(ensure_index(key)[missing_mask\u001b[39m.\u001b[39mnonzero()[\u001b[39m0\u001b[39m]]\u001b[39m.\u001b[39munique())\n\u001b[1;32m   6171\u001b[0m \u001b[39mraise\u001b[39;00m \u001b[39mKeyError\u001b[39;00m(\u001b[39mf\u001b[39m\u001b[39m\"\u001b[39m\u001b[39m{\u001b[39;00mnot_found\u001b[39m}\u001b[39;00m\u001b[39m not in index\u001b[39m\u001b[39m\"\u001b[39m)\n",
      "\u001b[0;31mKeyError\u001b[0m: \"None of [Index(['created_at', 'id_str', 'full_text', 'user.location',\\n       'entities.hashtags', 'retweeted_status.full_text'],\\n      dtype='object')] are in the [columns]\""
     ]
    }
   ],
   "source": [
    "df_lula = pd.json_normalize(tweets_lula)\n",
    "df_lula = df_lula[['created_at', 'id_str', 'full_text', 'user.location', 'entities.hashtags','retweeted_status.full_text']]\n",
    "df_lula.to_csv('C:/Users/rafae/OneDrive/Documents/GitHub/HCAI/Final/dados/raw_data/lula_teste.csv', index=False)"
   ]
  },
  {
   "cell_type": "markdown",
   "metadata": {},
   "source": [
    "## #Eleições"
   ]
  },
  {
   "cell_type": "code",
   "execution_count": 4,
   "metadata": {},
   "outputs": [],
   "source": [
    "query_eleicoes = '#eleicao OR #eleicao22 OR #Eleicoes2022 OR #eleicoes2022 until:2022-10-11'\n",
    "eleicoes = tw.Cursor(api.search_tweets,q=query_eleicoes, lang=\"pt\",tweet_mode=\"extended\").items(n)\n",
    "tweets_eleicoes=[]\n",
    "for tweet in eleicoes:\n",
    "   tweets_eleicoes.append(tweet._json)"
   ]
  },
  {
   "cell_type": "code",
   "execution_count": 5,
   "metadata": {},
   "outputs": [],
   "source": [
    "df_eleicoes = pd.json_normalize(tweets_eleicoes)\n",
    "df_eleicoes = df_eleicoes[['created_at', 'id_str', 'full_text', 'user.location', 'entities.hashtags','retweeted_status.full_text']]\n",
    "df_eleicoes.to_csv('C:/Users/rafae/OneDrive/Documents/GitHub/HCAI/Final/dados/raw_data/hastag_eleicao_teste.csv', index=False)"
   ]
  },
  {
   "cell_type": "markdown",
   "metadata": {},
   "source": [
    "## Bolsonaro"
   ]
  },
  {
   "cell_type": "code",
   "execution_count": 6,
   "metadata": {},
   "outputs": [],
   "source": [
    "query_bolsonaro = 'bolsonaro OR bozo OR bozonaro OR elenão OR elesim OR jair OR mito OR bolsonaro22 until:2022-09-10'\n",
    "bolsonaro = tw.Cursor(api.search_tweets,q=query_bolsonaro, lang=\"pt\",tweet_mode=\"extended\").items(n)\n",
    "tweets_bolsonaro=[]\n",
    "for tweet in bolsonaro:\n",
    "   tweets_bolsonaro.append(tweet._json)"
   ]
  },
  {
   "cell_type": "code",
   "execution_count": 7,
   "metadata": {},
   "outputs": [],
   "source": [
    "df_bolsonaro = pd.json_normalize(tweets_bolsonaro)\n",
    "df_bolsonaro = df_bolsonaro[['created_at', 'id_str', 'full_text', 'user.location', 'entities.hashtags','retweeted_status.full_text']]\n",
    "df_bolsonaro.to_csv('C:/Users/rafae/OneDrive/Documents/GitHub/HCAI/Final/dados/raw_data/bolsonaro_teste.csv', index=False)"
   ]
  }
 ],
 "metadata": {
  "kernelspec": {
   "display_name": "Python 3.9.12 ('base')",
   "language": "python",
   "name": "python3"
  },
  "language_info": {
   "codemirror_mode": {
    "name": "ipython",
    "version": 3
   },
   "file_extension": ".py",
   "mimetype": "text/x-python",
   "name": "python",
   "nbconvert_exporter": "python",
   "pygments_lexer": "ipython3",
   "version": "3.9.12"
  },
  "orig_nbformat": 4,
  "vscode": {
   "interpreter": {
    "hash": "5321d52f472d9d44fe580412eb4884ad344a6c2d5efe9a2fa6eec8e499dc231d"
   }
  }
 },
 "nbformat": 4,
 "nbformat_minor": 2
}
