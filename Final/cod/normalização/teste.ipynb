{
 "cells": [
  {
   "cell_type": "markdown",
   "metadata": {},
   "source": [
    "## Ideia\n",
    "Ideia de mostrar vários modelos treinados e seus resultados em gráfico"
   ]
  },
  {
   "cell_type": "code",
   "execution_count": null,
   "metadata": {},
   "outputs": [],
   "source": [
    "score  = []\n",
    "for epoch in range(1,3):\n",
    "    model = CTGAN(epochs=epoch, generator_dim=(256, 256), discriminator_dim=(256, 256), verbose=True, discriminator_steps=5)\n",
    "    model.fit(data)\n",
    "    overall_score = evaluate(new_data, data)\n",
    "    score.append((epoch,overall_score))"
   ]
  },
  {
   "cell_type": "code",
   "execution_count": null,
   "metadata": {},
   "outputs": [],
   "source": [
    "import numpy as np\n",
    "import matplotlib.pyplot as plt\n",
    "array = np.array(score)\n",
    "print(array)\n",
    "x = array[:,0]\n",
    "y = array[:,1]\n",
    "plt.plot(x,y)"
   ]
  }
 ],
 "metadata": {
  "kernelspec": {
   "display_name": "Python 3.10.6 64-bit",
   "language": "python",
   "name": "python3"
  },
  "language_info": {
   "name": "python",
   "version": "3.10.6"
  },
  "orig_nbformat": 4,
  "vscode": {
   "interpreter": {
    "hash": "e7370f93d1d0cde622a1f8e1c04877d8463912d04d973331ad4851f04de6915a"
   }
  }
 },
 "nbformat": 4,
 "nbformat_minor": 2
}
