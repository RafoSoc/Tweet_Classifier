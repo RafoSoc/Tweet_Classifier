{
 "cells": [
  {
   "cell_type": "code",
   "execution_count": 59,
   "metadata": {},
   "outputs": [
    {
     "name": "stdout",
     "output_type": "stream",
     "text": [
      "Requirement already satisfied: plotly in c:\\users\\rafae\\anaconda3\\lib\\site-packages (5.10.0)\n",
      "Requirement already satisfied: tenacity>=6.2.0 in c:\\users\\rafae\\anaconda3\\lib\\site-packages (from plotly) (8.1.0)\n",
      "Requirement already satisfied: dtreeviz in c:\\users\\rafae\\anaconda3\\lib\\site-packages (1.4.1)\n",
      "Requirement already satisfied: matplotlib in c:\\users\\rafae\\anaconda3\\lib\\site-packages (from dtreeviz) (3.6.0)\n",
      "Requirement already satisfied: numpy in c:\\users\\rafae\\anaconda3\\lib\\site-packages (from dtreeviz) (1.22.4)\n",
      "Requirement already satisfied: colour in c:\\users\\rafae\\anaconda3\\lib\\site-packages (from dtreeviz) (0.1.5)\n",
      "Requirement already satisfied: scikit-learn in c:\\users\\rafae\\anaconda3\\lib\\site-packages (from dtreeviz) (1.0.2)\n",
      "Requirement already satisfied: pandas in c:\\users\\rafae\\anaconda3\\lib\\site-packages (from dtreeviz) (1.5.0)\n",
      "Requirement already satisfied: pytest in c:\\users\\rafae\\anaconda3\\lib\\site-packages (from dtreeviz) (7.1.3)\n",
      "Requirement already satisfied: graphviz>=0.9 in c:\\users\\rafae\\anaconda3\\lib\\site-packages (from dtreeviz) (0.20.1)\n",
      "Requirement already satisfied: kiwisolver>=1.0.1 in c:\\users\\rafae\\anaconda3\\lib\\site-packages (from matplotlib->dtreeviz) (1.4.4)\n",
      "Requirement already satisfied: pillow>=6.2.0 in c:\\users\\rafae\\anaconda3\\lib\\site-packages (from matplotlib->dtreeviz) (9.2.0)\n",
      "Requirement already satisfied: pyparsing>=2.2.1 in c:\\users\\rafae\\anaconda3\\lib\\site-packages (from matplotlib->dtreeviz) (3.0.9)\n",
      "Requirement already satisfied: cycler>=0.10 in c:\\users\\rafae\\anaconda3\\lib\\site-packages (from matplotlib->dtreeviz) (0.11.0)\n",
      "Requirement already satisfied: packaging>=20.0 in c:\\users\\rafae\\anaconda3\\lib\\site-packages (from matplotlib->dtreeviz) (21.3)\n",
      "Requirement already satisfied: fonttools>=4.22.0 in c:\\users\\rafae\\anaconda3\\lib\\site-packages (from matplotlib->dtreeviz) (4.37.4)\n",
      "Requirement already satisfied: contourpy>=1.0.1 in c:\\users\\rafae\\anaconda3\\lib\\site-packages (from matplotlib->dtreeviz) (1.0.5)\n",
      "Requirement already satisfied: python-dateutil>=2.7 in c:\\users\\rafae\\anaconda3\\lib\\site-packages (from matplotlib->dtreeviz) (2.8.2)\n",
      "Requirement already satisfied: pytz>=2020.1 in c:\\users\\rafae\\anaconda3\\lib\\site-packages (from pandas->dtreeviz) (2022.4)\n",
      "Requirement already satisfied: attrs>=19.2.0 in c:\\users\\rafae\\anaconda3\\lib\\site-packages (from pytest->dtreeviz) (22.1.0)\n",
      "Requirement already satisfied: iniconfig in c:\\users\\rafae\\anaconda3\\lib\\site-packages (from pytest->dtreeviz) (1.1.1)\n",
      "Requirement already satisfied: pluggy<2.0,>=0.12 in c:\\users\\rafae\\anaconda3\\lib\\site-packages (from pytest->dtreeviz) (1.0.0)\n",
      "Requirement already satisfied: py>=1.8.2 in c:\\users\\rafae\\anaconda3\\lib\\site-packages (from pytest->dtreeviz) (1.11.0)\n",
      "Requirement already satisfied: tomli>=1.0.0 in c:\\users\\rafae\\anaconda3\\lib\\site-packages (from pytest->dtreeviz) (2.0.1)\n",
      "Requirement already satisfied: colorama in c:\\users\\rafae\\anaconda3\\lib\\site-packages (from pytest->dtreeviz) (0.4.5)\n",
      "Requirement already satisfied: scipy>=1.1.0 in c:\\users\\rafae\\anaconda3\\lib\\site-packages (from scikit-learn->dtreeviz) (1.7.3)\n",
      "Requirement already satisfied: threadpoolctl>=2.0.0 in c:\\users\\rafae\\anaconda3\\lib\\site-packages (from scikit-learn->dtreeviz) (3.1.0)\n",
      "Requirement already satisfied: joblib>=0.11 in c:\\users\\rafae\\anaconda3\\lib\\site-packages (from scikit-learn->dtreeviz) (1.2.0)\n",
      "Requirement already satisfied: six>=1.5 in c:\\users\\rafae\\anaconda3\\lib\\site-packages (from python-dateutil>=2.7->matplotlib->dtreeviz) (1.16.0)\n"
     ]
    }
   ],
   "source": [
    "!pip install plotly\n",
    "!pip install dtreeviz"
   ]
  },
  {
   "cell_type": "code",
   "execution_count": 1,
   "metadata": {},
   "outputs": [
    {
     "name": "stderr",
     "output_type": "stream",
     "text": [
      "[nltk_data] Downloading package stopwords to\n",
      "[nltk_data]     C:\\Users\\rafae\\AppData\\Roaming\\nltk_data...\n",
      "[nltk_data]   Package stopwords is already up-to-date!\n",
      "[nltk_data] Downloading package wordnet to\n",
      "[nltk_data]     C:\\Users\\rafae\\AppData\\Roaming\\nltk_data...\n",
      "[nltk_data]   Package wordnet is already up-to-date!\n",
      "[nltk_data] Downloading package omw-1.4 to\n",
      "[nltk_data]     C:\\Users\\rafae\\AppData\\Roaming\\nltk_data...\n",
      "[nltk_data]   Package omw-1.4 is already up-to-date!\n",
      "[nltk_data] Downloading package punkt to\n",
      "[nltk_data]     C:\\Users\\rafae\\AppData\\Roaming\\nltk_data...\n",
      "[nltk_data]   Package punkt is already up-to-date!\n"
     ]
    }
   ],
   "source": [
    "import pandas as pd\n",
    "import numpy as np\n",
    "import matplotlib.pyplot as plt\n",
    "\n",
    "#Libs para importar os modelos que serão utilizados e para verificar a precisão dos mesmo\n",
    "from sklearn.metrics import accuracy_score\n",
    "from sklearn.metrics import precision_recall_fscore_support as score\n",
    "from sklearn.tree import DecisionTreeClassifier\n",
    "from sklearn.ensemble import RandomForestClassifier\n",
    "from sklearn import tree\n",
    "from sklearn.multiclass import OneVsRestClassifier\n",
    "from sklearn.svm import SVC\n",
    "\n",
    "#Lib criada pela equipe para fazer os devidos tratamentos dos tweets.\n",
    "from remove_normalizer import ajustandoDados\n",
    "\n",
    "#lib de plotagem\n",
    "import plotly.graph_objects as go\n",
    "\n",
    "#Lib para salvarmos os modelos, CountVectorizer e as categorias alvos para utilizarmos posteriormente sem a necessidade de treinarmos o modelo novamente\n",
    "import joblib"
   ]
  },
  {
   "cell_type": "markdown",
   "metadata": {},
   "source": [
    "Lemos o aqruivo excel e transformamos em um dataframe"
   ]
  },
  {
   "cell_type": "code",
   "execution_count": 2,
   "metadata": {},
   "outputs": [
    {
     "data": {
      "text/html": [
       "<div>\n",
       "<style scoped>\n",
       "    .dataframe tbody tr th:only-of-type {\n",
       "        vertical-align: middle;\n",
       "    }\n",
       "\n",
       "    .dataframe tbody tr th {\n",
       "        vertical-align: top;\n",
       "    }\n",
       "\n",
       "    .dataframe thead th {\n",
       "        text-align: right;\n",
       "    }\n",
       "</style>\n",
       "<table border=\"1\" class=\"dataframe\">\n",
       "  <thead>\n",
       "    <tr style=\"text-align: right;\">\n",
       "      <th></th>\n",
       "      <th>full_text</th>\n",
       "      <th>classificacao_texto</th>\n",
       "      <th>classificacao</th>\n",
       "    </tr>\n",
       "  </thead>\n",
       "  <tbody>\n",
       "    <tr>\n",
       "      <th>0</th>\n",
       "      <td>acho q o bozo errou o time chegou meio atrasado</td>\n",
       "      <td>neutro</td>\n",
       "      <td>0</td>\n",
       "    </tr>\n",
       "    <tr>\n",
       "      <th>1</th>\n",
       "      <td>jair em desespero</td>\n",
       "      <td>negativo</td>\n",
       "      <td>-1</td>\n",
       "    </tr>\n",
       "    <tr>\n",
       "      <th>2</th>\n",
       "      <td>armacao do jair</td>\n",
       "      <td>negativo</td>\n",
       "      <td>-1</td>\n",
       "    </tr>\n",
       "    <tr>\n",
       "      <th>3</th>\n",
       "      <td>camilamoreno13_ jonvlogs raciocinio bom e o t...</td>\n",
       "      <td>negativo</td>\n",
       "      <td>-1</td>\n",
       "    </tr>\n",
       "    <tr>\n",
       "      <th>4</th>\n",
       "      <td>campanha de bolsonaro acusacao sem provas reai...</td>\n",
       "      <td>negativo</td>\n",
       "      <td>-1</td>\n",
       "    </tr>\n",
       "  </tbody>\n",
       "</table>\n",
       "</div>"
      ],
      "text/plain": [
       "                                           full_text classificacao_texto  \\\n",
       "0    acho q o bozo errou o time chegou meio atrasado              neutro   \n",
       "1                                  jair em desespero            negativo   \n",
       "2                                    armacao do jair            negativo   \n",
       "3   camilamoreno13_ jonvlogs raciocinio bom e o t...            negativo   \n",
       "4  campanha de bolsonaro acusacao sem provas reai...            negativo   \n",
       "\n",
       "   classificacao  \n",
       "0              0  \n",
       "1             -1  \n",
       "2             -1  \n",
       "3             -1  \n",
       "4             -1  "
      ]
     },
     "metadata": {},
     "output_type": "display_data"
    }
   ],
   "source": [
    "tweets = pd.read_excel('C:/Users/rafae/OneDrive/Documents/GitHub/Tweet_Classifier/Final/dados/train_data/dados_unidos_oficial_semDuplicatas.xlsx')\n",
    "display(tweets.head())"
   ]
  },
  {
   "cell_type": "markdown",
   "metadata": {},
   "source": [
    "Retirando colunas que não serão utilizadas pelo modelo"
   ]
  },
  {
   "cell_type": "markdown",
   "metadata": {},
   "source": [
    "Selecionamos os resultados que o modelo que iremos utilizar deverá dar."
   ]
  },
  {
   "cell_type": "code",
   "execution_count": 3,
   "metadata": {},
   "outputs": [
    {
     "name": "stdout",
     "output_type": "stream",
     "text": [
      "['neutro' 'negativo' 'positivo']\n"
     ]
    }
   ],
   "source": [
    "categoria_alvo = tweets['classificacao_texto'].unique()\n",
    "\n",
    "print(categoria_alvo)\n"
   ]
  },
  {
   "cell_type": "markdown",
   "metadata": {},
   "source": [
    "#### Verificando a quantidade de dados por classificação"
   ]
  },
  {
   "cell_type": "markdown",
   "metadata": {},
   "source": [
    "Aqui estamos fazendo um groupby da coluna \"classificacao_texto\", onde fala se o tweet é positivo, negativo ou neutro. Com isso"
   ]
  },
  {
   "cell_type": "code",
   "execution_count": 4,
   "metadata": {},
   "outputs": [
    {
     "data": {
      "text/html": [
       "<div>\n",
       "<style scoped>\n",
       "    .dataframe tbody tr th:only-of-type {\n",
       "        vertical-align: middle;\n",
       "    }\n",
       "\n",
       "    .dataframe tbody tr th {\n",
       "        vertical-align: top;\n",
       "    }\n",
       "\n",
       "    .dataframe thead th {\n",
       "        text-align: right;\n",
       "    }\n",
       "</style>\n",
       "<table border=\"1\" class=\"dataframe\">\n",
       "  <thead>\n",
       "    <tr style=\"text-align: right;\">\n",
       "      <th></th>\n",
       "      <th>classificacao_texto</th>\n",
       "      <th>classificacao</th>\n",
       "      <th>soma</th>\n",
       "    </tr>\n",
       "  </thead>\n",
       "  <tbody>\n",
       "    <tr>\n",
       "      <th>0</th>\n",
       "      <td>negativo</td>\n",
       "      <td>-1</td>\n",
       "      <td>200</td>\n",
       "    </tr>\n",
       "    <tr>\n",
       "      <th>1</th>\n",
       "      <td>neutro</td>\n",
       "      <td>0</td>\n",
       "      <td>79</td>\n",
       "    </tr>\n",
       "    <tr>\n",
       "      <th>2</th>\n",
       "      <td>positivo</td>\n",
       "      <td>1</td>\n",
       "      <td>134</td>\n",
       "    </tr>\n",
       "  </tbody>\n",
       "</table>\n",
       "</div>"
      ],
      "text/plain": [
       "  classificacao_texto  classificacao  soma\n",
       "0            negativo             -1   200\n",
       "1              neutro              0    79\n",
       "2            positivo              1   134"
      ]
     },
     "metadata": {},
     "output_type": "display_data"
    },
    {
     "name": "stdout",
     "output_type": "stream",
     "text": [
      "Total de Classificação de Lula: 413\n"
     ]
    }
   ],
   "source": [
    "classificacao = tweets.groupby('classificacao_texto').classificacao.value_counts()\n",
    "classificacao = pd.DataFrame(classificacao)\n",
    "classificacao.reset_index(names=['classificacao_texto','classificacao1'],inplace=True)\n",
    "classificacao.rename(columns = {'classificacao1':'classificacao', 'classificacao':'soma'}, inplace = True)\n",
    "display(classificacao.head())\n",
    "print(f'Total de Classificação de Lula: {classificacao.soma.sum()}')"
   ]
  },
  {
   "attachments": {},
   "cell_type": "markdown",
   "metadata": {},
   "source": [
    "Aqui verificamos que dentre 413 tweets as classificações ficam distribuidas da seguinte maneira, 48% classificações negativas, 19% neutras e 32% positivas."
   ]
  },
  {
   "cell_type": "code",
   "execution_count": 5,
   "metadata": {},
   "outputs": [
    {
     "data": {
      "application/vnd.plotly.v1+json": {
       "config": {
        "plotlyServerURL": "https://plot.ly"
       },
       "data": [
        {
         "name": "Total",
         "text": [
          200,
          79,
          134
         ],
         "type": "bar",
         "x": [
          "negativo",
          "neutro",
          "positivo"
         ],
         "y": [
          200,
          79,
          134
         ]
        }
       ],
       "layout": {
        "template": {
         "data": {
          "bar": [
           {
            "error_x": {
             "color": "#2a3f5f"
            },
            "error_y": {
             "color": "#2a3f5f"
            },
            "marker": {
             "line": {
              "color": "#E5ECF6",
              "width": 0.5
             },
             "pattern": {
              "fillmode": "overlay",
              "size": 10,
              "solidity": 0.2
             }
            },
            "type": "bar"
           }
          ],
          "barpolar": [
           {
            "marker": {
             "line": {
              "color": "#E5ECF6",
              "width": 0.5
             },
             "pattern": {
              "fillmode": "overlay",
              "size": 10,
              "solidity": 0.2
             }
            },
            "type": "barpolar"
           }
          ],
          "carpet": [
           {
            "aaxis": {
             "endlinecolor": "#2a3f5f",
             "gridcolor": "white",
             "linecolor": "white",
             "minorgridcolor": "white",
             "startlinecolor": "#2a3f5f"
            },
            "baxis": {
             "endlinecolor": "#2a3f5f",
             "gridcolor": "white",
             "linecolor": "white",
             "minorgridcolor": "white",
             "startlinecolor": "#2a3f5f"
            },
            "type": "carpet"
           }
          ],
          "choropleth": [
           {
            "colorbar": {
             "outlinewidth": 0,
             "ticks": ""
            },
            "type": "choropleth"
           }
          ],
          "contour": [
           {
            "colorbar": {
             "outlinewidth": 0,
             "ticks": ""
            },
            "colorscale": [
             [
              0,
              "#0d0887"
             ],
             [
              0.1111111111111111,
              "#46039f"
             ],
             [
              0.2222222222222222,
              "#7201a8"
             ],
             [
              0.3333333333333333,
              "#9c179e"
             ],
             [
              0.4444444444444444,
              "#bd3786"
             ],
             [
              0.5555555555555556,
              "#d8576b"
             ],
             [
              0.6666666666666666,
              "#ed7953"
             ],
             [
              0.7777777777777778,
              "#fb9f3a"
             ],
             [
              0.8888888888888888,
              "#fdca26"
             ],
             [
              1,
              "#f0f921"
             ]
            ],
            "type": "contour"
           }
          ],
          "contourcarpet": [
           {
            "colorbar": {
             "outlinewidth": 0,
             "ticks": ""
            },
            "type": "contourcarpet"
           }
          ],
          "heatmap": [
           {
            "colorbar": {
             "outlinewidth": 0,
             "ticks": ""
            },
            "colorscale": [
             [
              0,
              "#0d0887"
             ],
             [
              0.1111111111111111,
              "#46039f"
             ],
             [
              0.2222222222222222,
              "#7201a8"
             ],
             [
              0.3333333333333333,
              "#9c179e"
             ],
             [
              0.4444444444444444,
              "#bd3786"
             ],
             [
              0.5555555555555556,
              "#d8576b"
             ],
             [
              0.6666666666666666,
              "#ed7953"
             ],
             [
              0.7777777777777778,
              "#fb9f3a"
             ],
             [
              0.8888888888888888,
              "#fdca26"
             ],
             [
              1,
              "#f0f921"
             ]
            ],
            "type": "heatmap"
           }
          ],
          "heatmapgl": [
           {
            "colorbar": {
             "outlinewidth": 0,
             "ticks": ""
            },
            "colorscale": [
             [
              0,
              "#0d0887"
             ],
             [
              0.1111111111111111,
              "#46039f"
             ],
             [
              0.2222222222222222,
              "#7201a8"
             ],
             [
              0.3333333333333333,
              "#9c179e"
             ],
             [
              0.4444444444444444,
              "#bd3786"
             ],
             [
              0.5555555555555556,
              "#d8576b"
             ],
             [
              0.6666666666666666,
              "#ed7953"
             ],
             [
              0.7777777777777778,
              "#fb9f3a"
             ],
             [
              0.8888888888888888,
              "#fdca26"
             ],
             [
              1,
              "#f0f921"
             ]
            ],
            "type": "heatmapgl"
           }
          ],
          "histogram": [
           {
            "marker": {
             "pattern": {
              "fillmode": "overlay",
              "size": 10,
              "solidity": 0.2
             }
            },
            "type": "histogram"
           }
          ],
          "histogram2d": [
           {
            "colorbar": {
             "outlinewidth": 0,
             "ticks": ""
            },
            "colorscale": [
             [
              0,
              "#0d0887"
             ],
             [
              0.1111111111111111,
              "#46039f"
             ],
             [
              0.2222222222222222,
              "#7201a8"
             ],
             [
              0.3333333333333333,
              "#9c179e"
             ],
             [
              0.4444444444444444,
              "#bd3786"
             ],
             [
              0.5555555555555556,
              "#d8576b"
             ],
             [
              0.6666666666666666,
              "#ed7953"
             ],
             [
              0.7777777777777778,
              "#fb9f3a"
             ],
             [
              0.8888888888888888,
              "#fdca26"
             ],
             [
              1,
              "#f0f921"
             ]
            ],
            "type": "histogram2d"
           }
          ],
          "histogram2dcontour": [
           {
            "colorbar": {
             "outlinewidth": 0,
             "ticks": ""
            },
            "colorscale": [
             [
              0,
              "#0d0887"
             ],
             [
              0.1111111111111111,
              "#46039f"
             ],
             [
              0.2222222222222222,
              "#7201a8"
             ],
             [
              0.3333333333333333,
              "#9c179e"
             ],
             [
              0.4444444444444444,
              "#bd3786"
             ],
             [
              0.5555555555555556,
              "#d8576b"
             ],
             [
              0.6666666666666666,
              "#ed7953"
             ],
             [
              0.7777777777777778,
              "#fb9f3a"
             ],
             [
              0.8888888888888888,
              "#fdca26"
             ],
             [
              1,
              "#f0f921"
             ]
            ],
            "type": "histogram2dcontour"
           }
          ],
          "mesh3d": [
           {
            "colorbar": {
             "outlinewidth": 0,
             "ticks": ""
            },
            "type": "mesh3d"
           }
          ],
          "parcoords": [
           {
            "line": {
             "colorbar": {
              "outlinewidth": 0,
              "ticks": ""
             }
            },
            "type": "parcoords"
           }
          ],
          "pie": [
           {
            "automargin": true,
            "type": "pie"
           }
          ],
          "scatter": [
           {
            "fillpattern": {
             "fillmode": "overlay",
             "size": 10,
             "solidity": 0.2
            },
            "type": "scatter"
           }
          ],
          "scatter3d": [
           {
            "line": {
             "colorbar": {
              "outlinewidth": 0,
              "ticks": ""
             }
            },
            "marker": {
             "colorbar": {
              "outlinewidth": 0,
              "ticks": ""
             }
            },
            "type": "scatter3d"
           }
          ],
          "scattercarpet": [
           {
            "marker": {
             "colorbar": {
              "outlinewidth": 0,
              "ticks": ""
             }
            },
            "type": "scattercarpet"
           }
          ],
          "scattergeo": [
           {
            "marker": {
             "colorbar": {
              "outlinewidth": 0,
              "ticks": ""
             }
            },
            "type": "scattergeo"
           }
          ],
          "scattergl": [
           {
            "marker": {
             "colorbar": {
              "outlinewidth": 0,
              "ticks": ""
             }
            },
            "type": "scattergl"
           }
          ],
          "scattermapbox": [
           {
            "marker": {
             "colorbar": {
              "outlinewidth": 0,
              "ticks": ""
             }
            },
            "type": "scattermapbox"
           }
          ],
          "scatterpolar": [
           {
            "marker": {
             "colorbar": {
              "outlinewidth": 0,
              "ticks": ""
             }
            },
            "type": "scatterpolar"
           }
          ],
          "scatterpolargl": [
           {
            "marker": {
             "colorbar": {
              "outlinewidth": 0,
              "ticks": ""
             }
            },
            "type": "scatterpolargl"
           }
          ],
          "scatterternary": [
           {
            "marker": {
             "colorbar": {
              "outlinewidth": 0,
              "ticks": ""
             }
            },
            "type": "scatterternary"
           }
          ],
          "surface": [
           {
            "colorbar": {
             "outlinewidth": 0,
             "ticks": ""
            },
            "colorscale": [
             [
              0,
              "#0d0887"
             ],
             [
              0.1111111111111111,
              "#46039f"
             ],
             [
              0.2222222222222222,
              "#7201a8"
             ],
             [
              0.3333333333333333,
              "#9c179e"
             ],
             [
              0.4444444444444444,
              "#bd3786"
             ],
             [
              0.5555555555555556,
              "#d8576b"
             ],
             [
              0.6666666666666666,
              "#ed7953"
             ],
             [
              0.7777777777777778,
              "#fb9f3a"
             ],
             [
              0.8888888888888888,
              "#fdca26"
             ],
             [
              1,
              "#f0f921"
             ]
            ],
            "type": "surface"
           }
          ],
          "table": [
           {
            "cells": {
             "fill": {
              "color": "#EBF0F8"
             },
             "line": {
              "color": "white"
             }
            },
            "header": {
             "fill": {
              "color": "#C8D4E3"
             },
             "line": {
              "color": "white"
             }
            },
            "type": "table"
           }
          ]
         },
         "layout": {
          "annotationdefaults": {
           "arrowcolor": "#2a3f5f",
           "arrowhead": 0,
           "arrowwidth": 1
          },
          "autotypenumbers": "strict",
          "coloraxis": {
           "colorbar": {
            "outlinewidth": 0,
            "ticks": ""
           }
          },
          "colorscale": {
           "diverging": [
            [
             0,
             "#8e0152"
            ],
            [
             0.1,
             "#c51b7d"
            ],
            [
             0.2,
             "#de77ae"
            ],
            [
             0.3,
             "#f1b6da"
            ],
            [
             0.4,
             "#fde0ef"
            ],
            [
             0.5,
             "#f7f7f7"
            ],
            [
             0.6,
             "#e6f5d0"
            ],
            [
             0.7,
             "#b8e186"
            ],
            [
             0.8,
             "#7fbc41"
            ],
            [
             0.9,
             "#4d9221"
            ],
            [
             1,
             "#276419"
            ]
           ],
           "sequential": [
            [
             0,
             "#0d0887"
            ],
            [
             0.1111111111111111,
             "#46039f"
            ],
            [
             0.2222222222222222,
             "#7201a8"
            ],
            [
             0.3333333333333333,
             "#9c179e"
            ],
            [
             0.4444444444444444,
             "#bd3786"
            ],
            [
             0.5555555555555556,
             "#d8576b"
            ],
            [
             0.6666666666666666,
             "#ed7953"
            ],
            [
             0.7777777777777778,
             "#fb9f3a"
            ],
            [
             0.8888888888888888,
             "#fdca26"
            ],
            [
             1,
             "#f0f921"
            ]
           ],
           "sequentialminus": [
            [
             0,
             "#0d0887"
            ],
            [
             0.1111111111111111,
             "#46039f"
            ],
            [
             0.2222222222222222,
             "#7201a8"
            ],
            [
             0.3333333333333333,
             "#9c179e"
            ],
            [
             0.4444444444444444,
             "#bd3786"
            ],
            [
             0.5555555555555556,
             "#d8576b"
            ],
            [
             0.6666666666666666,
             "#ed7953"
            ],
            [
             0.7777777777777778,
             "#fb9f3a"
            ],
            [
             0.8888888888888888,
             "#fdca26"
            ],
            [
             1,
             "#f0f921"
            ]
           ]
          },
          "colorway": [
           "#636efa",
           "#EF553B",
           "#00cc96",
           "#ab63fa",
           "#FFA15A",
           "#19d3f3",
           "#FF6692",
           "#B6E880",
           "#FF97FF",
           "#FECB52"
          ],
          "font": {
           "color": "#2a3f5f"
          },
          "geo": {
           "bgcolor": "white",
           "lakecolor": "white",
           "landcolor": "#E5ECF6",
           "showlakes": true,
           "showland": true,
           "subunitcolor": "white"
          },
          "hoverlabel": {
           "align": "left"
          },
          "hovermode": "closest",
          "mapbox": {
           "style": "light"
          },
          "paper_bgcolor": "white",
          "plot_bgcolor": "#E5ECF6",
          "polar": {
           "angularaxis": {
            "gridcolor": "white",
            "linecolor": "white",
            "ticks": ""
           },
           "bgcolor": "#E5ECF6",
           "radialaxis": {
            "gridcolor": "white",
            "linecolor": "white",
            "ticks": ""
           }
          },
          "scene": {
           "xaxis": {
            "backgroundcolor": "#E5ECF6",
            "gridcolor": "white",
            "gridwidth": 2,
            "linecolor": "white",
            "showbackground": true,
            "ticks": "",
            "zerolinecolor": "white"
           },
           "yaxis": {
            "backgroundcolor": "#E5ECF6",
            "gridcolor": "white",
            "gridwidth": 2,
            "linecolor": "white",
            "showbackground": true,
            "ticks": "",
            "zerolinecolor": "white"
           },
           "zaxis": {
            "backgroundcolor": "#E5ECF6",
            "gridcolor": "white",
            "gridwidth": 2,
            "linecolor": "white",
            "showbackground": true,
            "ticks": "",
            "zerolinecolor": "white"
           }
          },
          "shapedefaults": {
           "line": {
            "color": "#2a3f5f"
           }
          },
          "ternary": {
           "aaxis": {
            "gridcolor": "white",
            "linecolor": "white",
            "ticks": ""
           },
           "baxis": {
            "gridcolor": "white",
            "linecolor": "white",
            "ticks": ""
           },
           "bgcolor": "#E5ECF6",
           "caxis": {
            "gridcolor": "white",
            "linecolor": "white",
            "ticks": ""
           }
          },
          "title": {
           "x": 0.05
          },
          "xaxis": {
           "automargin": true,
           "gridcolor": "white",
           "linecolor": "white",
           "ticks": "",
           "title": {
            "standoff": 15
           },
           "zerolinecolor": "white",
           "zerolinewidth": 2
          },
          "yaxis": {
           "automargin": true,
           "gridcolor": "white",
           "linecolor": "white",
           "ticks": "",
           "title": {
            "standoff": 15
           },
           "zerolinecolor": "white",
           "zerolinewidth": 2
          }
         }
        },
        "title": {
         "text": "Quantidade de Classificação"
        }
       }
      }
     },
     "metadata": {},
     "output_type": "display_data"
    }
   ],
   "source": [
    "fig = go.Figure(data=[\n",
    "    go.Bar(name='Total', x=classificacao['classificacao_texto'], y=classificacao[\"soma\"], text=classificacao[\"soma\"])\n",
    "])\n",
    "# Change the bar mode\n",
    "fig.update_layout(title = \"Quantidade de Classificação\")\n",
    "fig.show()"
   ]
  },
  {
   "cell_type": "markdown",
   "metadata": {},
   "source": [
    "Aqui criamos uma máscara para selecionar os tweets apenas para um candidato.\n",
    "\n",
    "Essas máscaras foram criadas para verificarmos como estão distribuidas as classificações por candidato."
   ]
  },
  {
   "cell_type": "code",
   "execution_count": 6,
   "metadata": {},
   "outputs": [],
   "source": [
    "#Dataframe que aparece palavras referentes ao Lula\n",
    "searchLula = ['lula' , 'lulalivre' , 'lulaladrao' , 'molusco' , 'lulaladrão' , 'lulapresidente','lula13']\n",
    "mask_lula = tweets['full_text'].str.contains('|'.join(searchLula))\n",
    "lula_df = tweets[mask_lula]\n",
    "#Dataframe que aparece palavras referentes ao bolsonaro\n",
    "searchBolsonaro = ['bolsonaro', 'bozo', 'bozonaro', 'elenão', 'elesim', 'jair', 'mito',' bolsonaro22']\n",
    "mask_bolso = tweets['full_text'].str.contains('|'.join(searchBolsonaro))\n",
    "bolsonaro_df = tweets[mask_bolso]"
   ]
  },
  {
   "cell_type": "markdown",
   "metadata": {},
   "source": [
    "Aqui geramos o dataframe apenas com os tweets que mencionam o Lula."
   ]
  },
  {
   "cell_type": "code",
   "execution_count": 7,
   "metadata": {},
   "outputs": [
    {
     "data": {
      "text/html": [
       "<div>\n",
       "<style scoped>\n",
       "    .dataframe tbody tr th:only-of-type {\n",
       "        vertical-align: middle;\n",
       "    }\n",
       "\n",
       "    .dataframe tbody tr th {\n",
       "        vertical-align: top;\n",
       "    }\n",
       "\n",
       "    .dataframe thead th {\n",
       "        text-align: right;\n",
       "    }\n",
       "</style>\n",
       "<table border=\"1\" class=\"dataframe\">\n",
       "  <thead>\n",
       "    <tr style=\"text-align: right;\">\n",
       "      <th></th>\n",
       "      <th>classificacao_texto</th>\n",
       "      <th>classificacao</th>\n",
       "      <th>soma</th>\n",
       "    </tr>\n",
       "  </thead>\n",
       "  <tbody>\n",
       "    <tr>\n",
       "      <th>0</th>\n",
       "      <td>negativo</td>\n",
       "      <td>-1</td>\n",
       "      <td>102</td>\n",
       "    </tr>\n",
       "    <tr>\n",
       "      <th>1</th>\n",
       "      <td>neutro</td>\n",
       "      <td>0</td>\n",
       "      <td>25</td>\n",
       "    </tr>\n",
       "    <tr>\n",
       "      <th>2</th>\n",
       "      <td>positivo</td>\n",
       "      <td>1</td>\n",
       "      <td>109</td>\n",
       "    </tr>\n",
       "  </tbody>\n",
       "</table>\n",
       "</div>"
      ],
      "text/plain": [
       "  classificacao_texto  classificacao  soma\n",
       "0            negativo             -1   102\n",
       "1              neutro              0    25\n",
       "2            positivo              1   109"
      ]
     },
     "metadata": {},
     "output_type": "display_data"
    },
    {
     "name": "stdout",
     "output_type": "stream",
     "text": [
      "Total de Classificação de Lula: 236\n"
     ]
    }
   ],
   "source": [
    "classificacao_lula = lula_df.groupby('classificacao_texto').classificacao.value_counts()\n",
    "classificacao_lula = pd.DataFrame(classificacao_lula)\n",
    "classificacao_lula.reset_index(names=['classificacao_texto','classificacao1'],inplace=True)\n",
    "classificacao_lula.rename(columns = {'classificacao1':'classificacao', 'classificacao':'soma'}, inplace = True)\n",
    "display(classificacao_lula.head())\n",
    "print(f'Total de Classificação de Lula: {classificacao_lula.soma.sum()}')"
   ]
  },
  {
   "cell_type": "markdown",
   "metadata": {},
   "source": [
    "Aqui geramos o dataframe apenas com os tweets que mencionam o Bolsonaro."
   ]
  },
  {
   "cell_type": "code",
   "execution_count": 8,
   "metadata": {},
   "outputs": [
    {
     "data": {
      "text/html": [
       "<div>\n",
       "<style scoped>\n",
       "    .dataframe tbody tr th:only-of-type {\n",
       "        vertical-align: middle;\n",
       "    }\n",
       "\n",
       "    .dataframe tbody tr th {\n",
       "        vertical-align: top;\n",
       "    }\n",
       "\n",
       "    .dataframe thead th {\n",
       "        text-align: right;\n",
       "    }\n",
       "</style>\n",
       "<table border=\"1\" class=\"dataframe\">\n",
       "  <thead>\n",
       "    <tr style=\"text-align: right;\">\n",
       "      <th></th>\n",
       "      <th>classificacao_texto</th>\n",
       "      <th>classificacao</th>\n",
       "      <th>soma</th>\n",
       "    </tr>\n",
       "  </thead>\n",
       "  <tbody>\n",
       "    <tr>\n",
       "      <th>0</th>\n",
       "      <td>negativo</td>\n",
       "      <td>-1</td>\n",
       "      <td>125</td>\n",
       "    </tr>\n",
       "    <tr>\n",
       "      <th>1</th>\n",
       "      <td>neutro</td>\n",
       "      <td>0</td>\n",
       "      <td>28</td>\n",
       "    </tr>\n",
       "    <tr>\n",
       "      <th>2</th>\n",
       "      <td>positivo</td>\n",
       "      <td>1</td>\n",
       "      <td>60</td>\n",
       "    </tr>\n",
       "  </tbody>\n",
       "</table>\n",
       "</div>"
      ],
      "text/plain": [
       "  classificacao_texto  classificacao  soma\n",
       "0            negativo             -1   125\n",
       "1              neutro              0    28\n",
       "2            positivo              1    60"
      ]
     },
     "metadata": {},
     "output_type": "display_data"
    },
    {
     "name": "stdout",
     "output_type": "stream",
     "text": [
      "Total de Classificação de Bolsonaro: 213\n"
     ]
    }
   ],
   "source": [
    "classificacao_bolsonaro = bolsonaro_df.groupby('classificacao_texto').classificacao.value_counts()\n",
    "classificacao_bolsonaro = pd.DataFrame(classificacao_bolsonaro)\n",
    "classificacao_bolsonaro.reset_index(names=['classificacao_texto','classificacao1'],inplace=True)\n",
    "classificacao_bolsonaro.rename(columns = {'classificacao1':'classificacao', 'classificacao':'soma'}, inplace = True)\n",
    "display(classificacao_bolsonaro.head())\n",
    "print(f'Total de Classificação de Bolsonaro: {classificacao_bolsonaro.soma.sum()}')"
   ]
  },
  {
   "attachments": {},
   "cell_type": "markdown",
   "metadata": {},
   "source": [
    "Quando olhamos para classificação por presidente veficamos que Lula que possuí 236 tweets que é mencionado e a classificação desses tweets são distribuidas da seguinte maneira, como mostrada na fig. X, 43% são classificações negativas, 11% são neutras e 46% são possitivas. Quando olhamos para a distribuição de Bolsonaro, onde seu nome é mencionado em 213 tweets percebemos que a distribuição é dada da seguinte maneira: 59% são negativas, 13% são neutras e 28% são positivas."
   ]
  },
  {
   "cell_type": "code",
   "execution_count": 9,
   "metadata": {},
   "outputs": [
    {
     "data": {
      "application/vnd.plotly.v1+json": {
       "config": {
        "plotlyServerURL": "https://plot.ly"
       },
       "data": [
        {
         "name": "Lula",
         "text": [
          102,
          25,
          109
         ],
         "type": "bar",
         "x": [
          "negativo",
          "neutro",
          "positivo"
         ],
         "y": [
          102,
          25,
          109
         ]
        },
        {
         "name": "Bolsonaro",
         "text": [
          125,
          28,
          60
         ],
         "type": "bar",
         "x": [
          "negativo",
          "neutro",
          "positivo"
         ],
         "y": [
          125,
          28,
          60
         ]
        }
       ],
       "layout": {
        "barmode": "group",
        "template": {
         "data": {
          "bar": [
           {
            "error_x": {
             "color": "#2a3f5f"
            },
            "error_y": {
             "color": "#2a3f5f"
            },
            "marker": {
             "line": {
              "color": "#E5ECF6",
              "width": 0.5
             },
             "pattern": {
              "fillmode": "overlay",
              "size": 10,
              "solidity": 0.2
             }
            },
            "type": "bar"
           }
          ],
          "barpolar": [
           {
            "marker": {
             "line": {
              "color": "#E5ECF6",
              "width": 0.5
             },
             "pattern": {
              "fillmode": "overlay",
              "size": 10,
              "solidity": 0.2
             }
            },
            "type": "barpolar"
           }
          ],
          "carpet": [
           {
            "aaxis": {
             "endlinecolor": "#2a3f5f",
             "gridcolor": "white",
             "linecolor": "white",
             "minorgridcolor": "white",
             "startlinecolor": "#2a3f5f"
            },
            "baxis": {
             "endlinecolor": "#2a3f5f",
             "gridcolor": "white",
             "linecolor": "white",
             "minorgridcolor": "white",
             "startlinecolor": "#2a3f5f"
            },
            "type": "carpet"
           }
          ],
          "choropleth": [
           {
            "colorbar": {
             "outlinewidth": 0,
             "ticks": ""
            },
            "type": "choropleth"
           }
          ],
          "contour": [
           {
            "colorbar": {
             "outlinewidth": 0,
             "ticks": ""
            },
            "colorscale": [
             [
              0,
              "#0d0887"
             ],
             [
              0.1111111111111111,
              "#46039f"
             ],
             [
              0.2222222222222222,
              "#7201a8"
             ],
             [
              0.3333333333333333,
              "#9c179e"
             ],
             [
              0.4444444444444444,
              "#bd3786"
             ],
             [
              0.5555555555555556,
              "#d8576b"
             ],
             [
              0.6666666666666666,
              "#ed7953"
             ],
             [
              0.7777777777777778,
              "#fb9f3a"
             ],
             [
              0.8888888888888888,
              "#fdca26"
             ],
             [
              1,
              "#f0f921"
             ]
            ],
            "type": "contour"
           }
          ],
          "contourcarpet": [
           {
            "colorbar": {
             "outlinewidth": 0,
             "ticks": ""
            },
            "type": "contourcarpet"
           }
          ],
          "heatmap": [
           {
            "colorbar": {
             "outlinewidth": 0,
             "ticks": ""
            },
            "colorscale": [
             [
              0,
              "#0d0887"
             ],
             [
              0.1111111111111111,
              "#46039f"
             ],
             [
              0.2222222222222222,
              "#7201a8"
             ],
             [
              0.3333333333333333,
              "#9c179e"
             ],
             [
              0.4444444444444444,
              "#bd3786"
             ],
             [
              0.5555555555555556,
              "#d8576b"
             ],
             [
              0.6666666666666666,
              "#ed7953"
             ],
             [
              0.7777777777777778,
              "#fb9f3a"
             ],
             [
              0.8888888888888888,
              "#fdca26"
             ],
             [
              1,
              "#f0f921"
             ]
            ],
            "type": "heatmap"
           }
          ],
          "heatmapgl": [
           {
            "colorbar": {
             "outlinewidth": 0,
             "ticks": ""
            },
            "colorscale": [
             [
              0,
              "#0d0887"
             ],
             [
              0.1111111111111111,
              "#46039f"
             ],
             [
              0.2222222222222222,
              "#7201a8"
             ],
             [
              0.3333333333333333,
              "#9c179e"
             ],
             [
              0.4444444444444444,
              "#bd3786"
             ],
             [
              0.5555555555555556,
              "#d8576b"
             ],
             [
              0.6666666666666666,
              "#ed7953"
             ],
             [
              0.7777777777777778,
              "#fb9f3a"
             ],
             [
              0.8888888888888888,
              "#fdca26"
             ],
             [
              1,
              "#f0f921"
             ]
            ],
            "type": "heatmapgl"
           }
          ],
          "histogram": [
           {
            "marker": {
             "pattern": {
              "fillmode": "overlay",
              "size": 10,
              "solidity": 0.2
             }
            },
            "type": "histogram"
           }
          ],
          "histogram2d": [
           {
            "colorbar": {
             "outlinewidth": 0,
             "ticks": ""
            },
            "colorscale": [
             [
              0,
              "#0d0887"
             ],
             [
              0.1111111111111111,
              "#46039f"
             ],
             [
              0.2222222222222222,
              "#7201a8"
             ],
             [
              0.3333333333333333,
              "#9c179e"
             ],
             [
              0.4444444444444444,
              "#bd3786"
             ],
             [
              0.5555555555555556,
              "#d8576b"
             ],
             [
              0.6666666666666666,
              "#ed7953"
             ],
             [
              0.7777777777777778,
              "#fb9f3a"
             ],
             [
              0.8888888888888888,
              "#fdca26"
             ],
             [
              1,
              "#f0f921"
             ]
            ],
            "type": "histogram2d"
           }
          ],
          "histogram2dcontour": [
           {
            "colorbar": {
             "outlinewidth": 0,
             "ticks": ""
            },
            "colorscale": [
             [
              0,
              "#0d0887"
             ],
             [
              0.1111111111111111,
              "#46039f"
             ],
             [
              0.2222222222222222,
              "#7201a8"
             ],
             [
              0.3333333333333333,
              "#9c179e"
             ],
             [
              0.4444444444444444,
              "#bd3786"
             ],
             [
              0.5555555555555556,
              "#d8576b"
             ],
             [
              0.6666666666666666,
              "#ed7953"
             ],
             [
              0.7777777777777778,
              "#fb9f3a"
             ],
             [
              0.8888888888888888,
              "#fdca26"
             ],
             [
              1,
              "#f0f921"
             ]
            ],
            "type": "histogram2dcontour"
           }
          ],
          "mesh3d": [
           {
            "colorbar": {
             "outlinewidth": 0,
             "ticks": ""
            },
            "type": "mesh3d"
           }
          ],
          "parcoords": [
           {
            "line": {
             "colorbar": {
              "outlinewidth": 0,
              "ticks": ""
             }
            },
            "type": "parcoords"
           }
          ],
          "pie": [
           {
            "automargin": true,
            "type": "pie"
           }
          ],
          "scatter": [
           {
            "fillpattern": {
             "fillmode": "overlay",
             "size": 10,
             "solidity": 0.2
            },
            "type": "scatter"
           }
          ],
          "scatter3d": [
           {
            "line": {
             "colorbar": {
              "outlinewidth": 0,
              "ticks": ""
             }
            },
            "marker": {
             "colorbar": {
              "outlinewidth": 0,
              "ticks": ""
             }
            },
            "type": "scatter3d"
           }
          ],
          "scattercarpet": [
           {
            "marker": {
             "colorbar": {
              "outlinewidth": 0,
              "ticks": ""
             }
            },
            "type": "scattercarpet"
           }
          ],
          "scattergeo": [
           {
            "marker": {
             "colorbar": {
              "outlinewidth": 0,
              "ticks": ""
             }
            },
            "type": "scattergeo"
           }
          ],
          "scattergl": [
           {
            "marker": {
             "colorbar": {
              "outlinewidth": 0,
              "ticks": ""
             }
            },
            "type": "scattergl"
           }
          ],
          "scattermapbox": [
           {
            "marker": {
             "colorbar": {
              "outlinewidth": 0,
              "ticks": ""
             }
            },
            "type": "scattermapbox"
           }
          ],
          "scatterpolar": [
           {
            "marker": {
             "colorbar": {
              "outlinewidth": 0,
              "ticks": ""
             }
            },
            "type": "scatterpolar"
           }
          ],
          "scatterpolargl": [
           {
            "marker": {
             "colorbar": {
              "outlinewidth": 0,
              "ticks": ""
             }
            },
            "type": "scatterpolargl"
           }
          ],
          "scatterternary": [
           {
            "marker": {
             "colorbar": {
              "outlinewidth": 0,
              "ticks": ""
             }
            },
            "type": "scatterternary"
           }
          ],
          "surface": [
           {
            "colorbar": {
             "outlinewidth": 0,
             "ticks": ""
            },
            "colorscale": [
             [
              0,
              "#0d0887"
             ],
             [
              0.1111111111111111,
              "#46039f"
             ],
             [
              0.2222222222222222,
              "#7201a8"
             ],
             [
              0.3333333333333333,
              "#9c179e"
             ],
             [
              0.4444444444444444,
              "#bd3786"
             ],
             [
              0.5555555555555556,
              "#d8576b"
             ],
             [
              0.6666666666666666,
              "#ed7953"
             ],
             [
              0.7777777777777778,
              "#fb9f3a"
             ],
             [
              0.8888888888888888,
              "#fdca26"
             ],
             [
              1,
              "#f0f921"
             ]
            ],
            "type": "surface"
           }
          ],
          "table": [
           {
            "cells": {
             "fill": {
              "color": "#EBF0F8"
             },
             "line": {
              "color": "white"
             }
            },
            "header": {
             "fill": {
              "color": "#C8D4E3"
             },
             "line": {
              "color": "white"
             }
            },
            "type": "table"
           }
          ]
         },
         "layout": {
          "annotationdefaults": {
           "arrowcolor": "#2a3f5f",
           "arrowhead": 0,
           "arrowwidth": 1
          },
          "autotypenumbers": "strict",
          "coloraxis": {
           "colorbar": {
            "outlinewidth": 0,
            "ticks": ""
           }
          },
          "colorscale": {
           "diverging": [
            [
             0,
             "#8e0152"
            ],
            [
             0.1,
             "#c51b7d"
            ],
            [
             0.2,
             "#de77ae"
            ],
            [
             0.3,
             "#f1b6da"
            ],
            [
             0.4,
             "#fde0ef"
            ],
            [
             0.5,
             "#f7f7f7"
            ],
            [
             0.6,
             "#e6f5d0"
            ],
            [
             0.7,
             "#b8e186"
            ],
            [
             0.8,
             "#7fbc41"
            ],
            [
             0.9,
             "#4d9221"
            ],
            [
             1,
             "#276419"
            ]
           ],
           "sequential": [
            [
             0,
             "#0d0887"
            ],
            [
             0.1111111111111111,
             "#46039f"
            ],
            [
             0.2222222222222222,
             "#7201a8"
            ],
            [
             0.3333333333333333,
             "#9c179e"
            ],
            [
             0.4444444444444444,
             "#bd3786"
            ],
            [
             0.5555555555555556,
             "#d8576b"
            ],
            [
             0.6666666666666666,
             "#ed7953"
            ],
            [
             0.7777777777777778,
             "#fb9f3a"
            ],
            [
             0.8888888888888888,
             "#fdca26"
            ],
            [
             1,
             "#f0f921"
            ]
           ],
           "sequentialminus": [
            [
             0,
             "#0d0887"
            ],
            [
             0.1111111111111111,
             "#46039f"
            ],
            [
             0.2222222222222222,
             "#7201a8"
            ],
            [
             0.3333333333333333,
             "#9c179e"
            ],
            [
             0.4444444444444444,
             "#bd3786"
            ],
            [
             0.5555555555555556,
             "#d8576b"
            ],
            [
             0.6666666666666666,
             "#ed7953"
            ],
            [
             0.7777777777777778,
             "#fb9f3a"
            ],
            [
             0.8888888888888888,
             "#fdca26"
            ],
            [
             1,
             "#f0f921"
            ]
           ]
          },
          "colorway": [
           "#636efa",
           "#EF553B",
           "#00cc96",
           "#ab63fa",
           "#FFA15A",
           "#19d3f3",
           "#FF6692",
           "#B6E880",
           "#FF97FF",
           "#FECB52"
          ],
          "font": {
           "color": "#2a3f5f"
          },
          "geo": {
           "bgcolor": "white",
           "lakecolor": "white",
           "landcolor": "#E5ECF6",
           "showlakes": true,
           "showland": true,
           "subunitcolor": "white"
          },
          "hoverlabel": {
           "align": "left"
          },
          "hovermode": "closest",
          "mapbox": {
           "style": "light"
          },
          "paper_bgcolor": "white",
          "plot_bgcolor": "#E5ECF6",
          "polar": {
           "angularaxis": {
            "gridcolor": "white",
            "linecolor": "white",
            "ticks": ""
           },
           "bgcolor": "#E5ECF6",
           "radialaxis": {
            "gridcolor": "white",
            "linecolor": "white",
            "ticks": ""
           }
          },
          "scene": {
           "xaxis": {
            "backgroundcolor": "#E5ECF6",
            "gridcolor": "white",
            "gridwidth": 2,
            "linecolor": "white",
            "showbackground": true,
            "ticks": "",
            "zerolinecolor": "white"
           },
           "yaxis": {
            "backgroundcolor": "#E5ECF6",
            "gridcolor": "white",
            "gridwidth": 2,
            "linecolor": "white",
            "showbackground": true,
            "ticks": "",
            "zerolinecolor": "white"
           },
           "zaxis": {
            "backgroundcolor": "#E5ECF6",
            "gridcolor": "white",
            "gridwidth": 2,
            "linecolor": "white",
            "showbackground": true,
            "ticks": "",
            "zerolinecolor": "white"
           }
          },
          "shapedefaults": {
           "line": {
            "color": "#2a3f5f"
           }
          },
          "ternary": {
           "aaxis": {
            "gridcolor": "white",
            "linecolor": "white",
            "ticks": ""
           },
           "baxis": {
            "gridcolor": "white",
            "linecolor": "white",
            "ticks": ""
           },
           "bgcolor": "#E5ECF6",
           "caxis": {
            "gridcolor": "white",
            "linecolor": "white",
            "ticks": ""
           }
          },
          "title": {
           "x": 0.05
          },
          "xaxis": {
           "automargin": true,
           "gridcolor": "white",
           "linecolor": "white",
           "ticks": "",
           "title": {
            "standoff": 15
           },
           "zerolinecolor": "white",
           "zerolinewidth": 2
          },
          "yaxis": {
           "automargin": true,
           "gridcolor": "white",
           "linecolor": "white",
           "ticks": "",
           "title": {
            "standoff": 15
           },
           "zerolinecolor": "white",
           "zerolinewidth": 2
          }
         }
        },
        "title": {
         "text": "Comparação de Quantidade de Classificações entre Lula e Bolsonaro"
        }
       }
      }
     },
     "metadata": {},
     "output_type": "display_data"
    }
   ],
   "source": [
    "fig = go.Figure(data=[\n",
    "    go.Bar(name='Lula', x=classificacao_lula['classificacao_texto'], y=classificacao_lula[\"soma\"], text=classificacao_lula[\"soma\"]),\n",
    "    go.Bar(name='Bolsonaro', x=classificacao_bolsonaro['classificacao_texto'], y=classificacao_bolsonaro[\"soma\"], text=classificacao_bolsonaro[\"soma\"]),\n",
    "])\n",
    "# Change the bar mode\n",
    "fig.update_layout(barmode='group', title = 'Comparação de Quantidade de Classificações entre Lula e Bolsonaro')\n",
    "fig.show()"
   ]
  },
  {
   "cell_type": "markdown",
   "metadata": {},
   "source": [
    "Lembrando nem todos os tweets mencionam os presidentes diretamente e tweets podem mencionar os dois candidatos, na época que foram baixados os dados. Então podemos verificar também que os dois candidatos possuem a quantidade de dados equilibradas no total."
   ]
  },
  {
   "cell_type": "markdown",
   "metadata": {},
   "source": [
    "#### Tratamento"
   ]
  },
  {
   "cell_type": "markdown",
   "metadata": {},
   "source": [
    "Aqui fazemos os tratamentos dos dados removendo as stopwords."
   ]
  },
  {
   "cell_type": "code",
   "execution_count": 10,
   "metadata": {},
   "outputs": [
    {
     "data": {
      "text/plain": [
       "['jair', 'desespero']"
      ]
     },
     "execution_count": 10,
     "metadata": {},
     "output_type": "execute_result"
    }
   ],
   "source": [
    "tweets['full_text'] = tweets['full_text'].apply(ajustandoDados.remove_stopwords)\n",
    "tweets['full_text'][1]"
   ]
  },
  {
   "attachments": {},
   "cell_type": "markdown",
   "metadata": {},
   "source": [
    "Aqui é normalizada as palavras do dataset utilizando lemmatize, aqui encontrando-se o lema da palavra de maneira que é considerado o contexto da frase.\n",
    "\n",
    "[Conceito de lemmatize](https://www.guru99.com/stemming-lemmatization-python-nltk.html)\n",
    "\n",
    "[Conceito de lemma ou lema](https://simple.wikipedia.org/wiki/Lemma_(linguistics))"
   ]
  },
  {
   "cell_type": "code",
   "execution_count": 11,
   "metadata": {},
   "outputs": [
    {
     "data": {
      "text/plain": [
       "'jair desespero'"
      ]
     },
     "execution_count": 11,
     "metadata": {},
     "output_type": "execute_result"
    }
   ],
   "source": [
    "tweets['full_text'] = tweets['full_text'].apply(ajustandoDados.lemmatize_word)\n",
    "tweets['full_text'][1]"
   ]
  },
  {
   "cell_type": "markdown",
   "metadata": {},
   "source": [
    "#### Criando o modelo"
   ]
  },
  {
   "attachments": {},
   "cell_type": "markdown",
   "metadata": {},
   "source": [
    "Primeiro iremos selecionar os dados que serão previstos e o que serão utilizados para prever.\n",
    "\n",
    "Após isso imprimos o formato de x e y."
   ]
  },
  {
   "cell_type": "code",
   "execution_count": 27,
   "metadata": {},
   "outputs": [
    {
     "name": "stdout",
     "output_type": "stream",
     "text": [
      "X_tfidf.shape =  (413, 175)\n",
      "X_cv .shape =  (413, 175)\n",
      "y.shape =  (413,)\n"
     ]
    }
   ],
   "source": [
    "from sklearn.feature_extraction.text import CountVectorizer, TfidfVectorizer\n",
    "#Transformamos os tweets em array.\n",
    "x = np.array(tweets.iloc[:,0].values)\n",
    "#Transformamos as classificações em array.\n",
    "y = np.array(tweets['classificacao'].values)\n",
    "\n",
    "#Aqui no CountVectorizer definifimos para ignorar termos com uma frequência menor que 0.3 e maior que 0.7 nos documentos.\n",
    "#Após isso definimos as a matriz de características a partir de 200 palavras mais frequentes nos documentos.\n",
    "cv = CountVectorizer(min_df=5, max_features=200)\n",
    "x_cv = cv.fit_transform(tweets['full_text']).toarray()\n",
    "\n",
    "#Aqui no TfidfVectorizer definifimos para ignorar termos com uma frequência menor que 0.3 e maior que 0.7 nos documentos.\n",
    "#Após isso definimos as a matriz de características a partir de 200 palavras mais frequentes nos documentos.\n",
    "tfidf = TfidfVectorizer(min_df=5, max_features=200)\n",
    "x_tfidf = tfidf.fit_transform(tweets['full_text']).toarray()\n",
    "\n",
    "#Aqui verificamos o shape de X que são os tweets, tanto para tfidf quanto para cv, e de y que são a categoria alvo.\n",
    "print(\"X_tfidf.shape = \",x_tfidf.shape)\n",
    "print(\"X_cv .shape = \",x_cv.shape)\n",
    "print(\"y.shape = \",y.shape)"
   ]
  },
  {
   "cell_type": "markdown",
   "metadata": {},
   "source": [
    "Aqui iremos separar os dados entre dados de treino e dados de teste."
   ]
  },
  {
   "cell_type": "code",
   "execution_count": 14,
   "metadata": {},
   "outputs": [
    {
     "name": "stdout",
     "output_type": "stream",
     "text": [
      "330\n",
      "83\n"
     ]
    }
   ],
   "source": [
    "from sklearn.model_selection import train_test_split\n",
    "#Aqui divimos o dataset em teste e treino, 80% do dataset será para treino do modelo e 20% para teste. Utilizando os dados do tfidf\n",
    "x_train_tfidf, x_test_tfidf, y_train_tfidf, y_test_tfidf = train_test_split(x_tfidf, y, test_size = 0.20, random_state = 0, shuffle = True)\n",
    "print(len(x_train_tfidf))\n",
    "print(len(x_test_tfidf))"
   ]
  },
  {
   "cell_type": "code",
   "execution_count": 15,
   "metadata": {},
   "outputs": [
    {
     "name": "stdout",
     "output_type": "stream",
     "text": [
      "330\n",
      "83\n"
     ]
    }
   ],
   "source": [
    "#Aqui divimos o dataset em teste e treino, 80% do dataset será para treino do modelo e 20% para teste. Utilizando os dados do CountVectorizer\n",
    "x_train_cv, x_test_cv, y_train_cv, y_test_cv = train_test_split(x_cv, y, test_size = 0.20, random_state = 0, shuffle = True)\n",
    "print(len(x_train_cv))\n",
    "print(len(x_test_cv))"
   ]
  },
  {
   "cell_type": "markdown",
   "metadata": {},
   "source": [
    "Aqui definimos vários modelos para prevermos qual obtem o melhor resultado, isso poderemos ver na tabela que é criada com o resultado com o score de cada modelo."
   ]
  },
  {
   "cell_type": "code",
   "execution_count": 17,
   "metadata": {},
   "outputs": [],
   "source": [
    "def run_model_tfidf(model_name, x_train, y_train):\n",
    "    '''\n",
    "      Aqui definimos uma função que irá rodar os modelos de Decision Tree, Random Forests e SVC, utilizando os dados que foram utilizados o TfdifVectorizer\n",
    "    '''\n",
    "    mdl=''\n",
    "    if model_name == 'Random Forest':\n",
    "      #Definimos que a floresta terá 50 árvores.\n",
    "      mdl = RandomForestClassifier(n_estimators=50)\n",
    "    elif model_name == 'Decision Tree Classifier':\n",
    "      mdl = DecisionTreeClassifier()\n",
    "    elif model_name == 'Support Vector Classifier':\n",
    "      mdl = SVC()\n",
    "\n",
    "    #Fazemos com que sejam construidas as florestas, no caso do modelo de Random Forests,\n",
    "    #ou que sejam construída a árvore, no caso da Decision Tree.\n",
    "    mdl.fit(x_train_tfidf, y_train_tfidf)\n",
    "    \n",
    "    \n",
    "    #Aqui testamos os modelo treinado nos dados de teste\n",
    "    y_pred_tfidf = mdl.predict(x_test_tfidf)\n",
    "    \n",
    "    # Performance metrics\n",
    "    accuracy = round(accuracy_score(y_test_tfidf, y_pred_tfidf) * 100, 2)\n",
    "\n",
    "    # Get precision, recall, f1 scores\n",
    "    precision_macro, recall_macro, f1score_macro, support_macro = score(y_test_tfidf, y_pred_tfidf, average='macro')\n",
    "    \n",
    "    # Add performance parameters to list\n",
    "    perform_list_tfidf.append(dict([\n",
    "      ('Model', model_name),\n",
    "      ('Test Accuracy_tfidf', round(accuracy, 2)),\n",
    "      ('F1_macro_tfidf', round(f1score_macro, 2))\n",
    "    ]))\n"
   ]
  },
  {
   "cell_type": "code",
   "execution_count": 18,
   "metadata": {},
   "outputs": [],
   "source": [
    "def run_model_cv(model_name, x_train, y_train):\n",
    "    '''\n",
    "      Aqui definimos uma função que irá rodar os modelos de Decision Tree, Random Forests e SVC, utilizando os dados que foram utilizados o CountVectorizer\n",
    "    '''\n",
    "    mdl=''\n",
    "    if model_name == 'Random Forest':\n",
    "      #Definimos que a floresta terá 50 árvores.\n",
    "      mdl = RandomForestClassifier(n_estimators=50)\n",
    "    elif model_name == 'Decision Tree Classifier':\n",
    "      mdl = DecisionTreeClassifier()\n",
    "    elif model_name == 'Support Vector Classifier':\n",
    "      mdl = SVC()\n",
    "\n",
    "    #Fazemos com que sejam construidas as florestas, no caso do modelo de Random Forests,\n",
    "    #ou que sejam construída a árvore, no caso da Decision Tree.\n",
    "    mdl.fit(x_train_cv, y_train_cv)\n",
    "    \n",
    "    \n",
    "    #Aqui testamos os modelo treinado nos dados de teste\n",
    "    y_pred_cv = mdl.predict(x_test_cv)\n",
    "    \n",
    "    # Performance metrics\n",
    "    accuracy = round(accuracy_score(y_test_cv, y_pred_cv) * 100, 2)\n",
    "\n",
    "    # Get precision, recall, f1 scores\n",
    "    precision_macro, recall_macro, f1score_macro, support_macro = score(y_test_cv, y_pred_cv, average='macro')\n",
    "    \n",
    "    # Add performance parameters to list\n",
    "    perform_list_cv.append(dict([\n",
    "      ('Model', model_name),\n",
    "      ('Test Accuracy_cv', round(accuracy, 2)),\n",
    "      ('F1_macro_cv', round(f1score_macro, 2))\n",
    "    ]))\n"
   ]
  },
  {
   "attachments": {},
   "cell_type": "markdown",
   "metadata": {},
   "source": [
    "Aqui vemos o resultado de quando utilizamos o modelo nos dados de teste."
   ]
  },
  {
   "cell_type": "code",
   "execution_count": 19,
   "metadata": {},
   "outputs": [
    {
     "data": {
      "text/html": [
       "<div>\n",
       "<style scoped>\n",
       "    .dataframe tbody tr th:only-of-type {\n",
       "        vertical-align: middle;\n",
       "    }\n",
       "\n",
       "    .dataframe tbody tr th {\n",
       "        vertical-align: top;\n",
       "    }\n",
       "\n",
       "    .dataframe thead th {\n",
       "        text-align: right;\n",
       "    }\n",
       "</style>\n",
       "<table border=\"1\" class=\"dataframe\">\n",
       "  <thead>\n",
       "    <tr style=\"text-align: right;\">\n",
       "      <th></th>\n",
       "      <th>Model</th>\n",
       "      <th>Test Accuracy_tfidf</th>\n",
       "      <th>F1_macro_tfidf</th>\n",
       "    </tr>\n",
       "  </thead>\n",
       "  <tbody>\n",
       "    <tr>\n",
       "      <th>0</th>\n",
       "      <td>Random Forest</td>\n",
       "      <td>68.67</td>\n",
       "      <td>0.66</td>\n",
       "    </tr>\n",
       "    <tr>\n",
       "      <th>1</th>\n",
       "      <td>Decision Tree Classifier</td>\n",
       "      <td>61.45</td>\n",
       "      <td>0.61</td>\n",
       "    </tr>\n",
       "    <tr>\n",
       "      <th>2</th>\n",
       "      <td>Support Vector Classifier</td>\n",
       "      <td>67.47</td>\n",
       "      <td>0.62</td>\n",
       "    </tr>\n",
       "  </tbody>\n",
       "</table>\n",
       "</div>"
      ],
      "text/plain": [
       "                       Model  Test Accuracy_tfidf  F1_macro_tfidf\n",
       "0              Random Forest                68.67            0.66\n",
       "1   Decision Tree Classifier                61.45            0.61\n",
       "2  Support Vector Classifier                67.47            0.62"
      ]
     },
     "metadata": {},
     "output_type": "display_data"
    }
   ],
   "source": [
    "#Criando a lista de performance para os modelos que utilizaram TfidfVectorizer\n",
    "perform_list_tfidf = []\n",
    "\n",
    "#Rodando o modelo e verificando \n",
    "run_model_tfidf('Random Forest', x_train_tfidf, y_train_tfidf)\n",
    "run_model_tfidf('Decision Tree Classifier', x_train_tfidf, y_train_tfidf)\n",
    "run_model_tfidf('Support Vector Classifier', x_train_tfidf, y_train_tfidf)\n",
    "\n",
    "result_tfidf = pd.DataFrame(perform_list_tfidf)\n",
    "display(result_tfidf)"
   ]
  },
  {
   "cell_type": "code",
   "execution_count": 20,
   "metadata": {},
   "outputs": [
    {
     "data": {
      "text/html": [
       "<div>\n",
       "<style scoped>\n",
       "    .dataframe tbody tr th:only-of-type {\n",
       "        vertical-align: middle;\n",
       "    }\n",
       "\n",
       "    .dataframe tbody tr th {\n",
       "        vertical-align: top;\n",
       "    }\n",
       "\n",
       "    .dataframe thead th {\n",
       "        text-align: right;\n",
       "    }\n",
       "</style>\n",
       "<table border=\"1\" class=\"dataframe\">\n",
       "  <thead>\n",
       "    <tr style=\"text-align: right;\">\n",
       "      <th></th>\n",
       "      <th>Model</th>\n",
       "      <th>Test Accuracy_cv</th>\n",
       "      <th>F1_macro_cv</th>\n",
       "    </tr>\n",
       "  </thead>\n",
       "  <tbody>\n",
       "    <tr>\n",
       "      <th>0</th>\n",
       "      <td>Random Forest</td>\n",
       "      <td>60.24</td>\n",
       "      <td>0.59</td>\n",
       "    </tr>\n",
       "    <tr>\n",
       "      <th>1</th>\n",
       "      <td>Decision Tree Classifier</td>\n",
       "      <td>56.63</td>\n",
       "      <td>0.54</td>\n",
       "    </tr>\n",
       "    <tr>\n",
       "      <th>2</th>\n",
       "      <td>Support Vector Classifier</td>\n",
       "      <td>68.67</td>\n",
       "      <td>0.67</td>\n",
       "    </tr>\n",
       "  </tbody>\n",
       "</table>\n",
       "</div>"
      ],
      "text/plain": [
       "                       Model  Test Accuracy_cv  F1_macro_cv\n",
       "0              Random Forest             60.24         0.59\n",
       "1   Decision Tree Classifier             56.63         0.54\n",
       "2  Support Vector Classifier             68.67         0.67"
      ]
     },
     "metadata": {},
     "output_type": "display_data"
    }
   ],
   "source": [
    "#Criando a lista de performance que utilizaram CountVectorizer\n",
    "perform_list_cv = []\n",
    "\n",
    "#Rodando o modelo e verificando \n",
    "run_model_cv('Random Forest', x_train_cv, y_train_cv)\n",
    "run_model_cv('Decision Tree Classifier', x_train_cv, y_train_cv)\n",
    "run_model_cv('Support Vector Classifier', x_train_cv, y_train_cv)\n",
    "\n",
    "result_cv = pd.DataFrame(perform_list_cv)\n",
    "display(result_cv)"
   ]
  },
  {
   "attachments": {},
   "cell_type": "markdown",
   "metadata": {},
   "source": [
    "#### Validando o Modelo"
   ]
  },
  {
   "cell_type": "markdown",
   "metadata": {},
   "source": [
    "Aqui criamos um dataframe com frases novas para verificarmos como o modelo se comporta com frases novas."
   ]
  },
  {
   "cell_type": "code",
   "execution_count": 22,
   "metadata": {},
   "outputs": [
    {
     "data": {
      "text/html": [
       "<div>\n",
       "<style scoped>\n",
       "    .dataframe tbody tr th:only-of-type {\n",
       "        vertical-align: middle;\n",
       "    }\n",
       "\n",
       "    .dataframe tbody tr th {\n",
       "        vertical-align: top;\n",
       "    }\n",
       "\n",
       "    .dataframe thead th {\n",
       "        text-align: right;\n",
       "    }\n",
       "</style>\n",
       "<table border=\"1\" class=\"dataframe\">\n",
       "  <thead>\n",
       "    <tr style=\"text-align: right;\">\n",
       "      <th></th>\n",
       "      <th>frase_teste</th>\n",
       "    </tr>\n",
       "  </thead>\n",
       "  <tbody>\n",
       "    <tr>\n",
       "      <th>0</th>\n",
       "      <td>gosto presidente lula</td>\n",
       "    </tr>\n",
       "    <tr>\n",
       "      <th>1</th>\n",
       "      <td>gosto presidente bolsonaro</td>\n",
       "    </tr>\n",
       "    <tr>\n",
       "      <th>2</th>\n",
       "      <td>lula ladrao merece ir cadeia</td>\n",
       "    </tr>\n",
       "    <tr>\n",
       "      <th>3</th>\n",
       "      <td>bolsonaro ladrao merece ir cadeia</td>\n",
       "    </tr>\n",
       "    <tr>\n",
       "      <th>4</th>\n",
       "      <td>bolsonaro piores presidentes brasil , robou fe...</td>\n",
       "    </tr>\n",
       "    <tr>\n",
       "      <th>5</th>\n",
       "      <td>lula piores presidentes brasil , robou fez que...</td>\n",
       "    </tr>\n",
       "    <tr>\n",
       "      <th>6</th>\n",
       "      <td>jair bolsonaro bom povo brasileiro , deu oport...</td>\n",
       "    </tr>\n",
       "    <tr>\n",
       "      <th>7</th>\n",
       "      <td>lula bom povo brasileiro , deu oportunidades ,...</td>\n",
       "    </tr>\n",
       "  </tbody>\n",
       "</table>\n",
       "</div>"
      ],
      "text/plain": [
       "                                         frase_teste\n",
       "0                              gosto presidente lula\n",
       "1                         gosto presidente bolsonaro\n",
       "2                       lula ladrao merece ir cadeia\n",
       "3                  bolsonaro ladrao merece ir cadeia\n",
       "4  bolsonaro piores presidentes brasil , robou fe...\n",
       "5  lula piores presidentes brasil , robou fez que...\n",
       "6  jair bolsonaro bom povo brasileiro , deu oport...\n",
       "7  lula bom povo brasileiro , deu oportunidades ,..."
      ]
     },
     "execution_count": 22,
     "metadata": {},
     "output_type": "execute_result"
    }
   ],
   "source": [
    "teste = [['Gosto muito do presidente Lula'],\n",
    "         ['Gosto muito do presidente Bolsonaro'], \n",
    "         ['Lula foi um ladrão e merece ir para a cadeia'],\n",
    "         ['Bolsonaro foi um ladrão e merece ir para a cadeia'],\n",
    "         ['Bolsonaro foi um dos piores presidentes do brasil, robou e fez o que queria para se manter no poder'],\n",
    "         ['Lula foi um dos piores presidentes do brasil, robou e fez o que queria para se manter no poder'], \n",
    "         ['jair bolsonaro foi muito bom para o povo brasileiro, deu oportunidades, emprego'],\n",
    "         ['lula foi muito bom para o povo brasileiro, deu oportunidades, emprego']]\n",
    "dfTeste = pd.DataFrame(teste, columns=['frase_teste'])\n",
    "ajustandoDados.remove_misc1(dfTeste, 'frase_teste')\n",
    "dfTeste['frase_teste'] = dfTeste['frase_teste'].apply(ajustandoDados.remove_stopwords)\n",
    "dfTeste['frase_teste'] = dfTeste['frase_teste'].apply(ajustandoDados.lemmatize_word)\n",
    "dfTeste"
   ]
  },
  {
   "cell_type": "markdown",
   "metadata": {},
   "source": [
    "Aqui pegamos os mesmos CountVectorizer, as mesmas keywords arguments para os modelos e as mesma categorias alvo."
   ]
  },
  {
   "cell_type": "code",
   "execution_count": 23,
   "metadata": {},
   "outputs": [],
   "source": [
    "#Criando Dataframe para salvar os resultados dos modelos\n",
    "resultados = pd.DataFrame()\n",
    "resultados['frases'] = dfTeste['frase_teste']"
   ]
  },
  {
   "cell_type": "code",
   "execution_count": 24,
   "metadata": {},
   "outputs": [],
   "source": [
    "#Aqui iremos utilizar os modelos que utilizaram TfidfVectorizer em daods inéditos, que não foram utilizados\n",
    "y_teste_tfidf= tfidf.transform(dfTeste['frase_teste']).toarray()\n",
    "mdl_RF_tfidf = RandomForestClassifier(n_estimators=50).fit(x_train_tfidf, y_train_tfidf)\n",
    "mdl_DT_tfidf = DecisionTreeClassifier().fit(x_train_tfidf, y_train_tfidf)\n",
    "mdl_SVC_tfidf = OneVsRestClassifier(SVC()).fit(x_train_tfidf, y_train_tfidf)\n",
    "\n",
    "\n",
    "y_pred_RF_tfidf = mdl_RF_tfidf.predict(y_teste_tfidf)\n",
    "y_pred_DT_tfidf = mdl_DT_tfidf.predict(y_teste_tfidf)\n",
    "y_pred_SVC_tfidf = mdl_SVC_tfidf.predict(y_teste_tfidf)\n",
    "\n",
    "resultado_RF_tfidf = categoria_alvo[y_pred_RF_tfidf]\n",
    "resultado_DT_tfidf = categoria_alvo[y_pred_DT_tfidf]\n",
    "resultado_SVC_tfidf = categoria_alvo[y_pred_SVC_tfidf]\n",
    "\n",
    "\n",
    "#Aqui iremos utilizar os modelos que utilizaram TfidfVectorizer em daods inéditos, que não foram utilizados\n",
    "y_teste_cv = cv.transform(dfTeste['frase_teste']).toarray()\n",
    "mdl_RF_cv = RandomForestClassifier(n_estimators=50).fit(x_train_cv, y_train_cv)\n",
    "mdl_DT_cv = DecisionTreeClassifier().fit(x_train_cv, y_train_cv)\n",
    "mdl_SVC_cv = OneVsRestClassifier(SVC()).fit(x_train_cv, y_train_cv)\n",
    "\n",
    "\n",
    "y_pred_RF_cv = mdl_RF_cv.predict(y_teste_cv)\n",
    "y_pred_DT_cv = mdl_DT_cv.predict(y_teste_cv)\n",
    "y_pred_SVC_cv = mdl_SVC_cv.predict(y_teste_cv)\n",
    "\n",
    "resultado_RF_cv = categoria_alvo[y_pred_RF_cv]\n",
    "resultado_DT_cv = categoria_alvo[y_pred_DT_cv]\n",
    "resultado_SVC_cv = categoria_alvo[y_pred_SVC_cv]"
   ]
  },
  {
   "cell_type": "code",
   "execution_count": 25,
   "metadata": {},
   "outputs": [
    {
     "data": {
      "text/html": [
       "<div>\n",
       "<style scoped>\n",
       "    .dataframe tbody tr th:only-of-type {\n",
       "        vertical-align: middle;\n",
       "    }\n",
       "\n",
       "    .dataframe tbody tr th {\n",
       "        vertical-align: top;\n",
       "    }\n",
       "\n",
       "    .dataframe thead th {\n",
       "        text-align: right;\n",
       "    }\n",
       "</style>\n",
       "<table border=\"1\" class=\"dataframe\">\n",
       "  <thead>\n",
       "    <tr style=\"text-align: right;\">\n",
       "      <th></th>\n",
       "      <th>frases</th>\n",
       "      <th>RF_tfidf</th>\n",
       "      <th>RF_cv</th>\n",
       "      <th>DT_tfidf</th>\n",
       "      <th>DT_cv</th>\n",
       "      <th>SVC_tfidf</th>\n",
       "      <th>SVC_cv</th>\n",
       "    </tr>\n",
       "  </thead>\n",
       "  <tbody>\n",
       "    <tr>\n",
       "      <th>0</th>\n",
       "      <td>gosto presidente lula</td>\n",
       "      <td>negativo</td>\n",
       "      <td>negativo</td>\n",
       "      <td>negativo</td>\n",
       "      <td>negativo</td>\n",
       "      <td>negativo</td>\n",
       "      <td>negativo</td>\n",
       "    </tr>\n",
       "    <tr>\n",
       "      <th>1</th>\n",
       "      <td>gosto presidente bolsonaro</td>\n",
       "      <td>negativo</td>\n",
       "      <td>negativo</td>\n",
       "      <td>neutro</td>\n",
       "      <td>negativo</td>\n",
       "      <td>negativo</td>\n",
       "      <td>positivo</td>\n",
       "    </tr>\n",
       "    <tr>\n",
       "      <th>2</th>\n",
       "      <td>lula ladrao merece ir cadeia</td>\n",
       "      <td>positivo</td>\n",
       "      <td>positivo</td>\n",
       "      <td>negativo</td>\n",
       "      <td>positivo</td>\n",
       "      <td>positivo</td>\n",
       "      <td>positivo</td>\n",
       "    </tr>\n",
       "    <tr>\n",
       "      <th>3</th>\n",
       "      <td>bolsonaro ladrao merece ir cadeia</td>\n",
       "      <td>positivo</td>\n",
       "      <td>positivo</td>\n",
       "      <td>positivo</td>\n",
       "      <td>positivo</td>\n",
       "      <td>positivo</td>\n",
       "      <td>positivo</td>\n",
       "    </tr>\n",
       "    <tr>\n",
       "      <th>4</th>\n",
       "      <td>bolsonaro piores presidentes brasil , robou fe...</td>\n",
       "      <td>positivo</td>\n",
       "      <td>positivo</td>\n",
       "      <td>positivo</td>\n",
       "      <td>positivo</td>\n",
       "      <td>positivo</td>\n",
       "      <td>positivo</td>\n",
       "    </tr>\n",
       "    <tr>\n",
       "      <th>5</th>\n",
       "      <td>lula piores presidentes brasil , robou fez que...</td>\n",
       "      <td>positivo</td>\n",
       "      <td>positivo</td>\n",
       "      <td>negativo</td>\n",
       "      <td>positivo</td>\n",
       "      <td>positivo</td>\n",
       "      <td>negativo</td>\n",
       "    </tr>\n",
       "    <tr>\n",
       "      <th>6</th>\n",
       "      <td>jair bolsonaro bom povo brasileiro , deu oport...</td>\n",
       "      <td>positivo</td>\n",
       "      <td>positivo</td>\n",
       "      <td>positivo</td>\n",
       "      <td>positivo</td>\n",
       "      <td>positivo</td>\n",
       "      <td>positivo</td>\n",
       "    </tr>\n",
       "    <tr>\n",
       "      <th>7</th>\n",
       "      <td>lula bom povo brasileiro , deu oportunidades ,...</td>\n",
       "      <td>negativo</td>\n",
       "      <td>neutro</td>\n",
       "      <td>negativo</td>\n",
       "      <td>neutro</td>\n",
       "      <td>positivo</td>\n",
       "      <td>negativo</td>\n",
       "    </tr>\n",
       "  </tbody>\n",
       "</table>\n",
       "</div>"
      ],
      "text/plain": [
       "                                              frases  RF_tfidf     RF_cv  \\\n",
       "0                              gosto presidente lula  negativo  negativo   \n",
       "1                         gosto presidente bolsonaro  negativo  negativo   \n",
       "2                       lula ladrao merece ir cadeia  positivo  positivo   \n",
       "3                  bolsonaro ladrao merece ir cadeia  positivo  positivo   \n",
       "4  bolsonaro piores presidentes brasil , robou fe...  positivo  positivo   \n",
       "5  lula piores presidentes brasil , robou fez que...  positivo  positivo   \n",
       "6  jair bolsonaro bom povo brasileiro , deu oport...  positivo  positivo   \n",
       "7  lula bom povo brasileiro , deu oportunidades ,...  negativo    neutro   \n",
       "\n",
       "   DT_tfidf     DT_cv SVC_tfidf    SVC_cv  \n",
       "0  negativo  negativo  negativo  negativo  \n",
       "1    neutro  negativo  negativo  positivo  \n",
       "2  negativo  positivo  positivo  positivo  \n",
       "3  positivo  positivo  positivo  positivo  \n",
       "4  positivo  positivo  positivo  positivo  \n",
       "5  negativo  positivo  positivo  negativo  \n",
       "6  positivo  positivo  positivo  positivo  \n",
       "7  negativo    neutro  positivo  negativo  "
      ]
     },
     "metadata": {},
     "output_type": "display_data"
    }
   ],
   "source": [
    "#Colocando os resultados dos modelos \n",
    "resultados['RF_tfidf'] = resultado_RF_tfidf\n",
    "resultados['RF_cv'] = resultado_RF_cv\n",
    "resultados['DT_tfidf'] = resultado_DT_tfidf\n",
    "resultados['DT_cv'] = resultado_DT_cv\n",
    "resultados['SVC_tfidf'] = resultado_SVC_tfidf\n",
    "resultados['SVC_cv'] = resultado_SVC_cv\n",
    "\n",
    "display(resultados)"
   ]
  },
  {
   "attachments": {},
   "cell_type": "markdown",
   "metadata": {},
   "source": [
    "No dataframe nos mostra que os resultados dos modelos e sua respectiva representação numérica/vectorial do texto, TfidfVectorizer e CountVectorizer, percebemos que os resultados tendem a classificar as frases com 'bolsonaro' nos tweets como positivas e que contêm 'lula' como negativas e neutras. Notamos isto tanto nos diferentes modelos, isto pode ter como a quantidade de dados é baixa e alguns tweets usados mencionam ambos os candidatos na mesma frase, notamos isto quando verificamos a figura onde comparamos a quantidade de classificação por menção do candidato, onde notamos que ela está acima da quantidade de dados presentes no estudo."
   ]
  },
  {
   "attachments": {},
   "cell_type": "markdown",
   "metadata": {},
   "source": [
    "Agora iremos salvar os modelos já treinados, os vetorizadores que são o CountVectorizer e o TfidfVectorizer e as categorias alvo para utilizarmos posteriormente sem a necessidade de treina-los novamente."
   ]
  },
  {
   "cell_type": "code",
   "execution_count": 28,
   "metadata": {},
   "outputs": [
    {
     "data": {
      "text/plain": [
       "['C:/Users/rafae/OneDrive/Documents/GitHub/Tweet_Classifier/Final/cod/modelo/classificadores/categoria_alvo_tweets.sav']"
      ]
     },
     "execution_count": 28,
     "metadata": {},
     "output_type": "execute_result"
    }
   ],
   "source": [
    "#Salva o modelo de random forest\n",
    "filename = 'C:/Users/rafae/OneDrive/Documents/GitHub/Tweet_Classifier/Final/cod/modelo/classificadores/RandomForestClassifier_tweets.sav'\n",
    "model = RandomForestClassifier(n_estimators=50).fit(x_train_tfidf, y_train_tfidf)\n",
    "joblib.dump(model, filename)\n",
    "\n",
    "#Salva o modelo de Decision Tree\n",
    "filename = 'C:/Users/rafae/OneDrive/Documents/GitHub/Tweet_Classifier/Final/cod/modelo/classificadores/DecisionTreeClassifier_tweets.sav'\n",
    "model = DecisionTreeClassifier().fit(x_train_tfidf, y_train_tfidf)\n",
    "joblib.dump(model, filename)\n",
    "\n",
    "#Salva o modelo de SVC\n",
    "filename = 'C:/Users/rafae/OneDrive/Documents/GitHub/Tweet_Classifier/Final/cod/modelo/classificadores/SVC_tweets.sav'\n",
    "model = OneVsRestClassifier(SVC()).fit(x_train_tfidf, y_train_tfidf)\n",
    "joblib.dump(model, filename)\n",
    "\n",
    "#Salva os vetorizadores:\n",
    "filename = 'C:/Users/rafae/OneDrive/Documents/GitHub/Tweet_Classifier/Final/cod/modelo/classificadores/CV_tweets.sav'\n",
    "joblib.dump(cv, filename)\n",
    "\n",
    "filename = 'C:/Users/rafae/OneDrive/Documents/GitHub/Tweet_Classifier/Final/cod/modelo/classificadores/TFIDF_tweets.sav'\n",
    "joblib.dump(tfidf, filename)\n",
    "\n",
    "#Salva as categorias\n",
    "filename = 'C:/Users/rafae/OneDrive/Documents/GitHub/Tweet_Classifier/Final/cod/modelo/classificadores/categoria_alvo_tweets.sav'\n",
    "joblib.dump(categoria_alvo, filename)"
   ]
  }
 ],
 "metadata": {
  "kernelspec": {
   "display_name": "Python 3.9.12 ('base')",
   "language": "python",
   "name": "python3"
  },
  "language_info": {
   "codemirror_mode": {
    "name": "ipython",
    "version": 3
   },
   "file_extension": ".py",
   "mimetype": "text/x-python",
   "name": "python",
   "nbconvert_exporter": "python",
   "pygments_lexer": "ipython3",
   "version": "3.9.12"
  },
  "orig_nbformat": 4,
  "vscode": {
   "interpreter": {
    "hash": "5321d52f472d9d44fe580412eb4884ad344a6c2d5efe9a2fa6eec8e499dc231d"
   }
  }
 },
 "nbformat": 4,
 "nbformat_minor": 2
}
