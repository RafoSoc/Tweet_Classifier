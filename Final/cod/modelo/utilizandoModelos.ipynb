{
 "cells": [
  {
   "cell_type": "code",
   "execution_count": 1,
   "metadata": {},
   "outputs": [],
   "source": [
    "import joblib\n",
    "import pandas as pd"
   ]
  },
  {
   "cell_type": "code",
   "execution_count": 3,
   "metadata": {},
   "outputs": [],
   "source": [
    "RandomForestModel = joblib.load('C:/Users/rafae/OneDrive/Documents/GitHub/HCAI/Final/cod/modelo/classificadores/RandomForestClassifier_tweets.sav')\n",
    "DecisionTreeModel = joblib.load('C:/Users/rafae/OneDrive/Documents/GitHub/HCAI/Final/cod/modelo/classificadores/DecisionTreeClassifier_tweets.sav')\n",
    "cv = joblib.load('C:/Users/rafae/OneDrive/Documents/GitHub/HCAI/Final/cod/modelo/classificadores/vectorizer_tweets.sav')\n",
    "target_category = joblib.load('C:/Users/rafae/OneDrive/Documents/GitHub/HCAI/Final/cod/modelo/classificadores/categoria_alvo_tweets.sav')"
   ]
  },
  {
   "cell_type": "code",
   "execution_count": 2,
   "metadata": {},
   "outputs": [
    {
     "data": {
      "text/html": [
       "<div>\n",
       "<style scoped>\n",
       "    .dataframe tbody tr th:only-of-type {\n",
       "        vertical-align: middle;\n",
       "    }\n",
       "\n",
       "    .dataframe tbody tr th {\n",
       "        vertical-align: top;\n",
       "    }\n",
       "\n",
       "    .dataframe thead th {\n",
       "        text-align: right;\n",
       "    }\n",
       "</style>\n",
       "<table border=\"1\" class=\"dataframe\">\n",
       "  <thead>\n",
       "    <tr style=\"text-align: right;\">\n",
       "      <th></th>\n",
       "      <th>created_at</th>\n",
       "      <th>id_str</th>\n",
       "      <th>full_text</th>\n",
       "      <th>user.location</th>\n",
       "      <th>entities.hashtags</th>\n",
       "    </tr>\n",
       "  </thead>\n",
       "  <tbody>\n",
       "    <tr>\n",
       "      <th>0</th>\n",
       "      <td>2022-10-26 20:35:05+00:00</td>\n",
       "      <td>1585369447736709121</td>\n",
       "      <td>xuserx acho q o bozo errou o time chegou meio ...</td>\n",
       "      <td>NaN</td>\n",
       "      <td>[]</td>\n",
       "    </tr>\n",
       "    <tr>\n",
       "      <th>1</th>\n",
       "      <td>2022-10-26 20:35:05+00:00</td>\n",
       "      <td>1585369445421449216</td>\n",
       "      <td>xuserx jair em desespero</td>\n",
       "      <td>NaN</td>\n",
       "      <td>[]</td>\n",
       "    </tr>\n",
       "    <tr>\n",
       "      <th>2</th>\n",
       "      <td>2022-10-26 20:35:05+00:00</td>\n",
       "      <td>1585369445253644288</td>\n",
       "      <td>xuserx armacao do jair</td>\n",
       "      <td>NaN</td>\n",
       "      <td>[]</td>\n",
       "    </tr>\n",
       "    <tr>\n",
       "      <th>3</th>\n",
       "      <td>2022-10-26 20:35:05+00:00</td>\n",
       "      <td>1585369445178183680</td>\n",
       "      <td>xuserx camilamoreno13_ jonvlogs raciocinio bom...</td>\n",
       "      <td>NaN</td>\n",
       "      <td>[]</td>\n",
       "    </tr>\n",
       "    <tr>\n",
       "      <th>4</th>\n",
       "      <td>2022-10-26 20:35:05+00:00</td>\n",
       "      <td>1585369444666474496</td>\n",
       "      <td>campanha de bolsonaro acusacao sem provas reai...</td>\n",
       "      <td>NaN</td>\n",
       "      <td>[]</td>\n",
       "    </tr>\n",
       "  </tbody>\n",
       "</table>\n",
       "</div>"
      ],
      "text/plain": [
       "                  created_at               id_str  \\\n",
       "0  2022-10-26 20:35:05+00:00  1585369447736709121   \n",
       "1  2022-10-26 20:35:05+00:00  1585369445421449216   \n",
       "2  2022-10-26 20:35:05+00:00  1585369445253644288   \n",
       "3  2022-10-26 20:35:05+00:00  1585369445178183680   \n",
       "4  2022-10-26 20:35:05+00:00  1585369444666474496   \n",
       "\n",
       "                                           full_text user.location  \\\n",
       "0  xuserx acho q o bozo errou o time chegou meio ...           NaN   \n",
       "1                           xuserx jair em desespero           NaN   \n",
       "2                             xuserx armacao do jair           NaN   \n",
       "3  xuserx camilamoreno13_ jonvlogs raciocinio bom...           NaN   \n",
       "4  campanha de bolsonaro acusacao sem provas reai...           NaN   \n",
       "\n",
       "  entities.hashtags  \n",
       "0                []  \n",
       "1                []  \n",
       "2                []  \n",
       "3                []  \n",
       "4                []  "
      ]
     },
     "metadata": {},
     "output_type": "display_data"
    }
   ],
   "source": [
    "tweet_teste = pd.read_excel('C:/Users/rafae/OneDrive/Documents/GitHub/HCAI/Final/dados/test_data/dados_unidos_test.xlsx')\n",
    "display(tweet_teste.head())"
   ]
  },
  {
   "cell_type": "code",
   "execution_count": 4,
   "metadata": {},
   "outputs": [
    {
     "data": {
      "text/html": [
       "<div>\n",
       "<style scoped>\n",
       "    .dataframe tbody tr th:only-of-type {\n",
       "        vertical-align: middle;\n",
       "    }\n",
       "\n",
       "    .dataframe tbody tr th {\n",
       "        vertical-align: top;\n",
       "    }\n",
       "\n",
       "    .dataframe thead th {\n",
       "        text-align: right;\n",
       "    }\n",
       "</style>\n",
       "<table border=\"1\" class=\"dataframe\">\n",
       "  <thead>\n",
       "    <tr style=\"text-align: right;\">\n",
       "      <th></th>\n",
       "      <th>full_text</th>\n",
       "    </tr>\n",
       "  </thead>\n",
       "  <tbody>\n",
       "    <tr>\n",
       "      <th>0</th>\n",
       "      <td>xuserx acho q o bozo errou o time chegou meio ...</td>\n",
       "    </tr>\n",
       "    <tr>\n",
       "      <th>1</th>\n",
       "      <td>xuserx jair em desespero</td>\n",
       "    </tr>\n",
       "    <tr>\n",
       "      <th>2</th>\n",
       "      <td>xuserx armacao do jair</td>\n",
       "    </tr>\n",
       "    <tr>\n",
       "      <th>3</th>\n",
       "      <td>xuserx camilamoreno13_ jonvlogs raciocinio bom...</td>\n",
       "    </tr>\n",
       "    <tr>\n",
       "      <th>4</th>\n",
       "      <td>campanha de bolsonaro acusacao sem provas reai...</td>\n",
       "    </tr>\n",
       "  </tbody>\n",
       "</table>\n",
       "</div>"
      ],
      "text/plain": [
       "                                           full_text\n",
       "0  xuserx acho q o bozo errou o time chegou meio ...\n",
       "1                           xuserx jair em desespero\n",
       "2                             xuserx armacao do jair\n",
       "3  xuserx camilamoreno13_ jonvlogs raciocinio bom...\n",
       "4  campanha de bolsonaro acusacao sem provas reai..."
      ]
     },
     "execution_count": 4,
     "metadata": {},
     "output_type": "execute_result"
    }
   ],
   "source": [
    "tweet_teste.drop(columns=['created_at','id_str', 'user.location', 'entities.hashtags'], inplace=True, axis=1)\n",
    "tweet_teste.head()"
   ]
  },
  {
   "cell_type": "code",
   "execution_count": 5,
   "metadata": {},
   "outputs": [
    {
     "data": {
      "text/html": [
       "<div>\n",
       "<style scoped>\n",
       "    .dataframe tbody tr th:only-of-type {\n",
       "        vertical-align: middle;\n",
       "    }\n",
       "\n",
       "    .dataframe tbody tr th {\n",
       "        vertical-align: top;\n",
       "    }\n",
       "\n",
       "    .dataframe thead th {\n",
       "        text-align: right;\n",
       "    }\n",
       "</style>\n",
       "<table border=\"1\" class=\"dataframe\">\n",
       "  <thead>\n",
       "    <tr style=\"text-align: right;\">\n",
       "      <th></th>\n",
       "      <th>tweets</th>\n",
       "      <th>RF</th>\n",
       "      <th>DT</th>\n",
       "    </tr>\n",
       "  </thead>\n",
       "  <tbody>\n",
       "    <tr>\n",
       "      <th>0</th>\n",
       "      <td>xuserx acho q o bozo errou o time chegou meio ...</td>\n",
       "      <td>positivo</td>\n",
       "      <td>positivo</td>\n",
       "    </tr>\n",
       "    <tr>\n",
       "      <th>1</th>\n",
       "      <td>xuserx jair em desespero</td>\n",
       "      <td>positivo</td>\n",
       "      <td>positivo</td>\n",
       "    </tr>\n",
       "    <tr>\n",
       "      <th>2</th>\n",
       "      <td>xuserx armacao do jair</td>\n",
       "      <td>positivo</td>\n",
       "      <td>positivo</td>\n",
       "    </tr>\n",
       "    <tr>\n",
       "      <th>3</th>\n",
       "      <td>xuserx camilamoreno13_ jonvlogs raciocinio bom...</td>\n",
       "      <td>positivo</td>\n",
       "      <td>positivo</td>\n",
       "    </tr>\n",
       "    <tr>\n",
       "      <th>4</th>\n",
       "      <td>campanha de bolsonaro acusacao sem provas reai...</td>\n",
       "      <td>positivo</td>\n",
       "      <td>positivo</td>\n",
       "    </tr>\n",
       "  </tbody>\n",
       "</table>\n",
       "</div>"
      ],
      "text/plain": [
       "                                              tweets        RF        DT\n",
       "0  xuserx acho q o bozo errou o time chegou meio ...  positivo  positivo\n",
       "1                           xuserx jair em desespero  positivo  positivo\n",
       "2                             xuserx armacao do jair  positivo  positivo\n",
       "3  xuserx camilamoreno13_ jonvlogs raciocinio bom...  positivo  positivo\n",
       "4  campanha de bolsonaro acusacao sem provas reai...  positivo  positivo"
      ]
     },
     "metadata": {},
     "output_type": "display_data"
    }
   ],
   "source": [
    "y_test = cv.transform(tweet_teste['full_text'])\n",
    "y_predRF = RandomForestModel.predict(y_test)\n",
    "y_predDT = DecisionTreeModel.predict(y_test)\n",
    "resultado_RF = target_category[y_predRF]\n",
    "resultado_DT = target_category[y_predDT]\n",
    "\n",
    "df_resultado = pd.DataFrame()\n",
    "df_resultado['tweets'] = tweet_teste['full_text']\n",
    "df_resultado['RF'] = resultado_RF\n",
    "df_resultado['DT'] = resultado_DT\n",
    "\n",
    "display(df_resultado.head())\n",
    "\n",
    "df_resultado.to_excel('resuldatos_modelos.xlsx', index=False)"
   ]
  }
 ],
 "metadata": {
  "kernelspec": {
   "display_name": "Python 3.9.12 ('base')",
   "language": "python",
   "name": "python3"
  },
  "language_info": {
   "codemirror_mode": {
    "name": "ipython",
    "version": 3
   },
   "file_extension": ".py",
   "mimetype": "text/x-python",
   "name": "python",
   "nbconvert_exporter": "python",
   "pygments_lexer": "ipython3",
   "version": "3.9.12"
  },
  "orig_nbformat": 4,
  "vscode": {
   "interpreter": {
    "hash": "5321d52f472d9d44fe580412eb4884ad344a6c2d5efe9a2fa6eec8e499dc231d"
   }
  }
 },
 "nbformat": 4,
 "nbformat_minor": 2
}
